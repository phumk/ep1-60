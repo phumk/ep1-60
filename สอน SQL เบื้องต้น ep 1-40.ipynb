{
    "metadata": {
        "kernelspec": {
            "name": "SQL",
            "display_name": "SQL",
            "language": "sql"
        },
        "language_info": {
            "name": "sql",
            "version": ""
        }
    },
    "nbformat_minor": 2,
    "nbformat": 4,
    "cells": [
        {
            "cell_type": "markdown",
            "source": [
                "# **สอน SQL เบื้องต้น: การใช้ SELECT DISTINCT เพื่อแสดงค่าที่ซ้ำกันเพียงครั้งเดียว**"
            ],
            "metadata": {
                "azdata_cell_guid": "04a060d1-2165-4889-97c1-2a1427951bfb"
            },
            "attachments": {}
        },
        {
            "cell_type": "code",
            "source": [
                "select distinct genre from movie_gross"
            ],
            "metadata": {
                "azdata_cell_guid": "2d3f5d01-b19c-4863-817b-108cfa92d830",
                "language": "sql"
            },
            "outputs": [],
            "execution_count": null
        },
        {
            "cell_type": "code",
            "source": [
                "select movie_title, count(*) cnt from movie_gross \r\n",
                "group by movie_title \r\n",
                "having count(*) > 1 \r\n",
                "order by cnt DESC"
            ],
            "metadata": {
                "language": "sql",
                "azdata_cell_guid": "2e4a664a-fda4-4038-9e17-a04fabb0649e",
                "tags": [
                    "hide_input"
                ]
            },
            "outputs": [],
            "execution_count": null
        },
        {
            "cell_type": "code",
            "source": [
                "select distinct mpaa_rating from movie_gross"
            ],
            "metadata": {
                "azdata_cell_guid": "2931f6af-e576-474b-863e-c1becd4cd26e",
                "language": "sql"
            },
            "outputs": [],
            "execution_count": null
        },
        {
            "cell_type": "code",
            "source": [
                "SELECT release_date, datepart(year,release_date) FROM movie_gross"
            ],
            "metadata": {
                "azdata_cell_guid": "1471dfb3-b509-4983-93df-3b3bbe7a43e5",
                "language": "sql"
            },
            "outputs": [],
            "execution_count": null
        },
        {
            "cell_type": "code",
            "source": [
                "SELECT distinct datepart(year,release_date) FROM movie_gross"
            ],
            "metadata": {
                "azdata_cell_guid": "eefd84bc-e917-4e74-adef-6a7789372154",
                "language": "sql"
            },
            "outputs": [],
            "execution_count": null
        },
        {
            "cell_type": "code",
            "source": [
                "SELECT distinct voice_actor from voice_actor"
            ],
            "metadata": {
                "azdata_cell_guid": "f76cd070-b4b3-4454-9a10-931db84219d2",
                "language": "sql"
            },
            "outputs": [],
            "execution_count": null
        },
        {
            "cell_type": "code",
            "source": [
                "SELECT distinct * from movie_gross"
            ],
            "metadata": {
                "azdata_cell_guid": "416a18ac-e6ce-44f6-aac9-c9bf02102c06",
                "language": "sql"
            },
            "outputs": [],
            "execution_count": null
        },
        {
            "cell_type": "markdown",
            "source": [
                "# **สอน SQL เบื้องต้น: การกรองแถวข้อมูลตามเงื่อนไขด้วย WHERE**"
            ],
            "metadata": {
                "language": "sql",
                "azdata_cell_guid": "02280063-a9ab-451a-9dc8-2b24c4f593cd"
            },
            "attachments": {}
        },
        {
            "cell_type": "code",
            "source": [
                "select * from movie_gross where genre = 'adventure'\r\n",
                "select * from movie_gross where genre != 'adventure'\r\n",
                "select * from movie_gross where genre = 'adventure' or genre = 'comedy' or genre = 'drama'\r\n",
                "select * from movie_gross where genre in('adventure','comedy','drama')\r\n",
                "select * from movie_gross where genre not in('adventure','comedy','drama')\r\n",
                "select * from movie_gross where inflation_adjusted_gross >= 500000000\r\n",
                "select * from movie_gross where inflation_adjusted_gross >= 500e6\r\n",
                "select * from movie_gross where inflation_adjusted_gross >= 300e6 and inflation_adjusted_gross <=500e6\r\n",
                "\r\n",
                "\r\n",
                "\r\n",
                "\r\n",
                "\r\n",
                "\r\n",
                ""
            ],
            "metadata": {
                "azdata_cell_guid": "3a351c8a-6305-48ec-988e-cf63d34b29a6",
                "language": "sql",
                "tags": []
            },
            "outputs": [],
            "execution_count": null
        },
        {
            "cell_type": "code",
            "source": [
                "select * from movie_gross where inflation_adjusted_gross\r\n",
                "between 300e6 and 500e6 order by inflation_adjusted_gross desc\r\n",
                "\r\n",
                "\r\n",
                ""
            ],
            "metadata": {
                "azdata_cell_guid": "b40d69db-1f42-4705-aaab-40914220a709",
                "language": "sql"
            },
            "outputs": [],
            "execution_count": null
        },
        {
            "cell_type": "code",
            "source": [
                "select * from movie_gross where release_date between '2013-01-01' and '2013-12-31'\r\n",
                "select * from movie_gross where datepart(year,release_date) = '2013'\r\n",
                "\r\n",
                "\r\n",
                ""
            ],
            "metadata": {
                "azdata_cell_guid": "f5b9e2fe-ace8-4f3a-9871-2fde5854d66e",
                "language": "sql",
                "tags": []
            },
            "outputs": [],
            "execution_count": null
        },
        {
            "cell_type": "code",
            "source": [
                "select * from movie_gross where movie_title like '%toy%'\r\n",
                "select * from movie_gross where movie_title like '%story'\r\n",
                "select * from movie_gross where movie_title like 'toy%'\r\n",
                "\r\n",
                ""
            ],
            "metadata": {
                "azdata_cell_guid": "fd28896e-612b-4bd9-809f-67b7577e522b",
                "language": "sql"
            },
            "outputs": [],
            "execution_count": null
        },
        {
            "cell_type": "markdown",
            "source": [
                "#วิธีเช็คค่า <span style=\"color: #0000ff;\">NULL</span> ต้องใช้ <span style=\"color: #0000ff;\">is</span> ห้ามใช้ <span style=\"color: #000000;\">=</span>"
            ],
            "metadata": {
                "language": "sql",
                "azdata_cell_guid": "e8745d3b-47d2-4f9d-8e5f-f68039119477"
            },
            "attachments": {}
        },
        {
            "cell_type": "code",
            "source": [
                "select * from movie_gross where genre is NULL\r\n",
                "select * from movie_gross where genre is not NULL\r\n",
                "\r\n",
                "\r\n",
                ""
            ],
            "metadata": {
                "azdata_cell_guid": "1d3efe05-6e8b-4528-9812-03a7bb4ff7a0",
                "language": "sql"
            },
            "outputs": [],
            "execution_count": null
        },
        {
            "cell_type": "markdown",
            "source": [
                "# **สอน SQL เบื้องต้น: การตรวจสอบเงื่อนไขด้วย AND, OR และ NOT**"
            ],
            "metadata": {
                "language": "sql",
                "azdata_cell_guid": "23e384d6-3ee1-4df2-bd32-9a05f9367d02"
            },
            "attachments": {}
        },
        {
            "cell_type": "code",
            "source": [
                "select * from movie_gross\r\n",
                "where (genre = 'adventure' or genre = 'musical')\r\n",
                "and mpaa_rating = 'g' and total_gross >= 100e6\r\n",
                "order by inflation_adjusted_gross desc\r\n",
                "\r\n",
                "\r\n",
                "\r\n",
                "\r\n",
                "\r\n",
                ""
            ],
            "metadata": {
                "azdata_cell_guid": "352a1bfc-4739-4fb2-b359-cbc49cce3a4e",
                "language": "sql"
            },
            "outputs": [],
            "execution_count": null
        },
        {
            "cell_type": "code",
            "source": [
                "select * from movie_gross\r\n",
                "where genre in ('adventure','musical','comedy')\r\n",
                "and mpaa_rating = 'g' and total_gross >= 100e6\r\n",
                "order by inflation_adjusted_gross desc\r\n",
                "\r\n",
                "\r\n",
                "\r\n",
                "\r\n",
                "\r\n",
                ""
            ],
            "metadata": {
                "language": "sql",
                "azdata_cell_guid": "f93d291a-828d-449b-9733-621dc081dee6"
            },
            "outputs": [],
            "execution_count": null
        },
        {
            "cell_type": "code",
            "source": [
                "select * from movie_gross where inflation_adjusted_gross between 500e6 and 1000e6"
            ],
            "metadata": {
                "azdata_cell_guid": "30d418a4-ef97-48ca-ab8f-2faa2d0c3d90",
                "language": "sql"
            },
            "outputs": [],
            "execution_count": null
        },
        {
            "cell_type": "markdown",
            "source": [
                "# **สอน SQL เบื้องต้น: การคำนวณทางคณิตศาสตร์ บวก ลบ คูณ หาร ยกกำลัง หารากที่ 2 ฯลฯ**"
            ],
            "metadata": {
                "language": "sql",
                "azdata_cell_guid": "f9acd529-84e7-42c4-af23-99884f053f1c"
            },
            "attachments": {}
        },
        {
            "cell_type": "code",
            "source": [
                "select top 5 movie_title, inflation_adjusted_gross [USD],\r\n",
                "inflation_adjusted_gross * 36.7 [THB]\r\n",
                "from movie_gross\r\n",
                "\r\n",
                ""
            ],
            "metadata": {
                "azdata_cell_guid": "1abd2d19-3a64-402e-a575-f2fcf35bab93",
                "language": "sql"
            },
            "outputs": [],
            "execution_count": null
        },
        {
            "cell_type": "code",
            "source": [
                "select\r\n",
                "7+5[add],\r\n",
                "7-5[subtract],\r\n",
                "7*5[multiply],\r\n",
                "7/5[devide_1], --int/int -> int\r\n",
                "7.0/5[devide_2], --deciaml/int -> decimal\r\n",
                "7/5.0[devide_3], --int/decimal -> decimal\r\n",
                "7*1.0/5[devide_4] --(int*decimal)/int -> decimal\r\n",
                "\r\n",
                "\r\n",
                "\r\n",
                "\r\n",
                "\r\n",
                "\r\n",
                ""
            ],
            "metadata": {
                "azdata_cell_guid": "b3736f0c-03b9-49fa-8399-a423c986bc11",
                "language": "sql",
                "tags": []
            },
            "outputs": [],
            "execution_count": null
        },
        {
            "cell_type": "code",
            "source": [
                "select power(2, 3), --ยกกำลัง\r\n",
                "power(2.0,1/2.0) -- หารากที่ 2 (2 ยกกำลัง 0.5) **อย่าลืมใส่ .0 หลังตัวหาร และตัวตั้งต้น\r\n",
                "\r\n",
                "\r\n",
                ""
            ],
            "metadata": {
                "azdata_cell_guid": "0e5c25da-f0ed-47cd-9455-2c5288b02504",
                "language": "sql"
            },
            "outputs": [],
            "execution_count": null
        },
        {
            "cell_type": "markdown",
            "source": [
                "# **สอน SQL เบื้องต้น: เข้าใจค่า NULL และการใช้งาน**"
            ],
            "metadata": {
                "language": "sql",
                "azdata_cell_guid": "70dc00fb-d609-4a89-8e13-9d417608c0cf"
            },
            "attachments": {}
        },
        {
            "cell_type": "code",
            "source": [
                "select top 10 [year] , --ผลคือ column ที่ 2 ไม่โชว์ตัวเลขเพราะคำนวนโดยการมี Null\r\n",
                "studio_entertainment+\r\n",
                "disney_consumer_products+\r\n",
                "disney_interactive+\r\n",
                "walt_disney_parks_and_resorts+\r\n",
                "disney_media_networks [total revenue],total from revenue\r\n",
                "\r\n",
                "\r\n",
                "\r\n",
                ""
            ],
            "metadata": {
                "azdata_cell_guid": "b0c5f26a-5049-4cc0-8137-798507082b95",
                "language": "sql",
                "tags": []
            },
            "outputs": [],
            "execution_count": null
        },
        {
            "cell_type": "code",
            "source": [
                "select top 10 [year] , --ใช้ isNULL เปลี่ยนข้อมูล NULL เป็น 0\r\n",
                "isNULL(studio_entertainment,0)+\r\n",
                "isNULL(disney_consumer_products,0)+\r\n",
                "isNULL(disney_interactive,0)+\r\n",
                "isNULL(walt_disney_parks_and_resorts,0)+\r\n",
                "isNULL(disney_media_networks,0) [total revenue],total from revenue\r\n",
                "\r\n",
                "\r\n",
                "\r\n",
                ""
            ],
            "metadata": {
                "azdata_cell_guid": "ce31b000-d05c-4838-be0b-a78b7f5a3e1b",
                "language": "sql"
            },
            "outputs": [],
            "execution_count": null
        },
        {
            "cell_type": "code",
            "source": [
                "select count(*),count(disney_media_networks) from revenue --ได้จำนวนไม่เท่ากันเพราะมีค่า NULL"
            ],
            "metadata": {
                "azdata_cell_guid": "567e5417-9fce-4f38-8601-a7896ee6afa9",
                "language": "sql"
            },
            "outputs": [],
            "execution_count": null
        },
        {
            "cell_type": "code",
            "source": [
                "select sum(disney_media_networks) from revenue --sum avg min max ไม่สนค่า NULL"
            ],
            "metadata": {
                "azdata_cell_guid": "5c5982b6-324a-43ef-bb10-9866e30d8f1f",
                "language": "sql"
            },
            "outputs": [],
            "execution_count": null
        },
        {
            "cell_type": "markdown",
            "source": [
                "# **สอน SQL เบื้องต้น: การใช้ LIKE ในการกรองข้อมูลตัวอักษร เช่น ชื่อหนังที่มีคำว่า toy**"
            ],
            "metadata": {
                "language": "sql",
                "azdata_cell_guid": "f6bb4a2c-4550-41b9-b969-04c9e90c418a"
            },
            "attachments": {}
        },
        {
            "cell_type": "code",
            "source": [
                "select * from movie_gross where movie_title like 'be%' --ขึ้นต้ยด้วยตัว BE\r\n",
                "select * from movie_gross where movie_title like '[byw]%' order by movie_title --ขึ้นต้นด้วย B หรือ Y หรือ W\r\n",
                "select * from movie_gross where movie_title like '[a-f]%' --ขึ้นต้นด้วย A ถึง F\r\n",
                "select * from movie_gross where movie_title like '[0-9]%' --ขึ้นต้นด้วย 0 ถึง 9\r\n",
                "select * from movie_gross where movie_title like '%[0-9]%' --มีตัวเลขอยู่ในชื่ิอเรื่อง\r\n",
                "select * from movie_gross where movie_title like '%[0-9]' --ลงท้ายด้วยตัวเลข\r\n",
                "select * from movie_gross where movie_title like '_n%' --เริ่มต้นด้วยตัวอะไรก็ได้ 1ตัว ตามด้วย N ลงท้ายด้วยอะไรก็ได้\r\n",
                "select * from movie_gross where movie_title like '__n%' --เริ่มต้นด้วยตัวอะไรก็ได้ 2ตัว ตามด้วย N ลงท้ายด้วยอะไรก็ได้\r\n",
                "select * from movie_gross where movie_title like '[^ABC]%' --ไม่เอาที่ขึ้นต้นด้วย A B C \r\n",
                "select * from movie_gross where movie_title like '[^ABC0-9]%' --ไม่เอาที่ขึ้นต้นด้วย A B C และตัวเลข\r\n",
                "select * from movie_gross where movie_title like '[^ABC0-9S-Z]%' --ไม่เอาที่ขึ้นต้นด้วย A B C หรือ ตัวเลข และ S ถึง Z\r\n",
                "\r\n",
                "\r\n",
                "\r\n",
                "\r\n",
                "\r\n",
                "\r\n",
                "\r\n",
                "\r\n",
                ""
            ],
            "metadata": {
                "azdata_cell_guid": "a23935b9-2980-4ce8-9e7c-6488677fe58f",
                "language": "sql"
            },
            "outputs": [],
            "execution_count": null
        },
        {
            "cell_type": "code",
            "source": [
                "select * from movie_gross where movie_title like '[^ABC]%' order by movie_title"
            ],
            "metadata": {
                "azdata_cell_guid": "4109e647-aa14-4cbb-b9c8-e55097528e1d",
                "language": "sql"
            },
            "outputs": [],
            "execution_count": null
        },
        {
            "cell_type": "markdown",
            "source": [
                "# **สอน SQL เบื้องต้น: การเรียงลำดับแถวในผลลัพธ์ด้วย ORDER BY**"
            ],
            "metadata": {
                "language": "sql",
                "azdata_cell_guid": "edf28690-9eaa-4c30-9dba-551384db00b2"
            },
            "attachments": {}
        },
        {
            "cell_type": "code",
            "source": [
                "select * from movie_gross order by inflation_adjusted_gross --น้อยไปมากเป็นค่า default\r\n",
                "select * from movie_gross order by inflation_adjusted_gross ASC --น้อยไปมาก\r\n",
                "select * from movie_gross order by inflation_adjusted_gross DESC --มากไปน้อย\r\n",
                "select top 10 * from movie_gross order by inflation_adjusted_gross DESC\r\n",
                "select * from movie_gross order by genre,inflation_adjusted_gross desc\r\n",
                "\r\n",
                "\r\n",
                "\r\n",
                "\r\n",
                ""
            ],
            "metadata": {
                "azdata_cell_guid": "5c5c54b9-e819-4cd7-9429-49680dd995c1",
                "language": "sql",
                "tags": []
            },
            "outputs": [],
            "execution_count": null
        },
        {
            "cell_type": "markdown",
            "source": [
                "# **สอน SQL เบื้องต้น: การเรียงลำดับข้อมูลภาษาไทยตามพจนานุกรม (sort Thai alphabet)**"
            ],
            "metadata": {
                "language": "sql",
                "azdata_cell_guid": "c94a6839-3044-44e7-b4fa-ab4cdef49257"
            },
            "attachments": {}
        },
        {
            "cell_type": "code",
            "source": [
                "select * from songs order by track_name collate thai_ci_ai --collate thai_ci_ai ทำให้เรียงตามพจนานุกรมเพราะปกติมันจะเอาสระมาก่อน"
            ],
            "metadata": {
                "azdata_cell_guid": "38d1595b-70fb-4f0f-ba77-accf13e23d36",
                "language": "sql"
            },
            "outputs": [],
            "execution_count": null
        },
        {
            "cell_type": "markdown",
            "source": [
                "# **สอน SQL เบื้องต้น: การใช้ SELECT TOP ในการระบุจำนวนแถวที่ต้องการแสดง**"
            ],
            "metadata": {
                "language": "sql",
                "azdata_cell_guid": "25dc85ea-adbc-4437-b42b-a782577426fe"
            },
            "attachments": {}
        },
        {
            "cell_type": "code",
            "source": [
                "select top 10 * from movie_gross order by inflation_adjusted_gross\r\n",
                "select top 1 *,newid() from movie_gross order by newid() --สุ่มมา 1ตัวโดยใช้ newid\r\n",
                "select top 10 percent *,newid() from movie_gross order by newid() --สุ่มมาเป็นจำนวน 10% ของข้อมูลทั้งหมด\r\n",
                "select *,newid() from movie_gross where movie_title like 'a%' order by newid() --ใช้ร่วมกับ where\r\n",
                "\r\n",
                "\r\n",
                "\r\n",
                "\r\n",
                "\r\n",
                ""
            ],
            "metadata": {
                "azdata_cell_guid": "5c2261ce-3c10-45ab-9eaa-e55e21a54796",
                "language": "sql"
            },
            "outputs": [],
            "execution_count": null
        },
        {
            "cell_type": "code",
            "source": [
                "drop table if exists train_data --ลบตาราง train_data จากข้อมูลใน disney (ถ้ามีอยู่แล้ว) \r\n",
                "\r\n",
                "select top 70 percent * --เลือก 70% ของข้อมูลแบบสุ่มจากตาราง movie_gross\r\n",
                "into train_data --เพื่อสร้างตารางใหม่ ชื่อ train_data\r\n",
                "from movie_gross order by NEWID() --เลือก 70% ของข้อมูลแบบสุ่มจากตาราง movie_gross\r\n",
                "\r\n",
                "\r\n",
                "\r\n",
                "\r\n",
                ""
            ],
            "metadata": {
                "azdata_cell_guid": "2311e9f9-01d3-49a8-9c3b-f4e8a7bf4518",
                "language": "sql"
            },
            "outputs": [],
            "execution_count": null
        },
        {
            "cell_type": "code",
            "source": [
                "select * from train_data --ลองดึงข้อมูลมาได้ 406แถว (70% ของ 549(406))"
            ],
            "metadata": {
                "azdata_cell_guid": "8dc4886c-10db-48a4-8533-d913dc720e52",
                "language": "sql"
            },
            "outputs": [],
            "execution_count": null
        },
        {
            "cell_type": "code",
            "source": [
                "select * from movie_gross except select * from train_data \r\n",
                "--ดึงข้อมูลที่ไม่ถูกดึงไปในตาราง train_data (30% ของ 549(173)) 406+173 = 549\r\n",
                "\r\n",
                "\r\n",
                ""
            ],
            "metadata": {
                "azdata_cell_guid": "6be5650f-e27e-4760-bad3-1f5fce859209",
                "language": "sql"
            },
            "outputs": [],
            "execution_count": null
        },
        {
            "cell_type": "code",
            "source": [
                "drop table if exists test_data; --สร้างตารางชื่อ cte จากข้อมูล 30% ที่เหลือ\r\n",
                "with cte as (\r\n",
                "    select * from movie_gross\r\n",
                "    except select * from train_data\r\n",
                ")\r\n",
                "select * into test_data from cte"
            ],
            "metadata": {
                "azdata_cell_guid": "f54bb706-16a9-4a2a-a506-be30193d8beb",
                "language": "sql"
            },
            "outputs": [],
            "execution_count": null
        },
        {
            "cell_type": "code",
            "source": [
                "select director, count(*) [number of movie] from director group by director order by [number of movie] desc\r\n",
                "select top 1 director, count(*) [number of movie] from director group by director order by [number of movie] desc\r\n",
                "--มันจะโชว์แค่คนเดียว (ซึ่งจริงๆแล้ว ลำดับ 1 มันมี 2คน กำกับจำนวนเรื่องเท่ากัน 7เรื่อง)\r\n",
                "select top 1 with ties director, count(*) [number of movie] from director group by director order by [number of movie] desc\r\n",
                "--แก้ด้วย with ties\r\n",
                "\r\n",
                "\r\n",
                "\r\n",
                "\r\n",
                ""
            ],
            "metadata": {
                "azdata_cell_guid": "89e9bbbb-53ae-4d33-99f3-9e8a25a20c15",
                "language": "sql"
            },
            "outputs": [],
            "execution_count": null
        },
        {
            "cell_type": "markdown",
            "source": [
                "# **สอน SQL เบื้องต้น: การเลือกแถวจากลำดับที่ที่ต้องการไปอีกกี่แถว (offset ... fetch)**"
            ],
            "metadata": {
                "language": "sql",
                "azdata_cell_guid": "10363baa-6fd5-4ec3-90f9-54e2399ed538"
            },
            "attachments": {}
        },
        {
            "cell_type": "code",
            "source": [
                "select top 5 with ties * from movie_gross order by inflation_adjusted_gross desc"
            ],
            "metadata": {
                "azdata_cell_guid": "7635ae91-ee0c-4107-ad78-daea88b9365e",
                "language": "sql"
            },
            "outputs": [],
            "execution_count": null
        },
        {
            "cell_type": "code",
            "source": [
                "select * from movie_gross order by inflation_adjusted_gross desc offset 0 row fetch next 5 row only"
            ],
            "metadata": {
                "azdata_cell_guid": "ae4e332d-cfae-4dd7-9dd1-3853bfb2a37d",
                "language": "sql"
            },
            "outputs": [],
            "execution_count": null
        },
        {
            "cell_type": "code",
            "source": [
                "select * from movie_gross order by inflation_adjusted_gross desc\r\n",
                " offset 2 row fetch next 1 row only\r\n",
                "--ข้าม 2 แถวแรกเพื่อเอา 1 แถว เหมือนหาอันกับที่ 3 ของเงื่อนไขที่เรากำนดอีกที\r\n",
                "\r\n",
                ""
            ],
            "metadata": {
                "azdata_cell_guid": "3023dbb1-f411-4956-871c-78cd2bfc2a7a",
                "language": "sql"
            },
            "outputs": [],
            "execution_count": null
        },
        {
            "cell_type": "markdown",
            "source": [
                "# **สอน SQL เบื้องต้น: การเชื่อมข้อความเข้าด้วยกัน (concatenate) ด้วย CONCAT() และ + (plus operator)**"
            ],
            "metadata": {
                "language": "sql",
                "azdata_cell_guid": "504e6dcd-da1f-44a7-a70b-5cd3cc85bfe9"
            },
            "attachments": {}
        },
        {
            "cell_type": "code",
            "source": [
                "select top 10 * from movie_gross"
            ],
            "metadata": {
                "azdata_cell_guid": "10c9cfeb-7376-4439-b38f-b37a09f85471",
                "language": "sql"
            },
            "outputs": [],
            "execution_count": null
        },
        {
            "cell_type": "code",
            "source": [
                "select top 5 movie_title + genre from movie_gross"
            ],
            "metadata": {
                "azdata_cell_guid": "12a342bd-d0cb-4d9c-951a-58625e461130",
                "language": "sql"
            },
            "outputs": [],
            "execution_count": null
        },
        {
            "cell_type": "code",
            "source": [
                "select top 5 movie_title + ' ' + genre from movie_gross --เชื่อมแบบมีช่องว่าง"
            ],
            "metadata": {
                "azdata_cell_guid": "30825543-7d76-478b-9cb1-0236e20fd4e2",
                "language": "sql"
            },
            "outputs": [],
            "execution_count": null
        },
        {
            "cell_type": "code",
            "source": [
                "select top 5 movie_title + ' (' + genre + ')' from movie_gross --เชื่อมแบบมีช่องว่าง และใส่วงเล็บ"
            ],
            "metadata": {
                "azdata_cell_guid": "82cac452-2ac5-46b1-9c68-59f0bbafd7bf",
                "language": "sql"
            },
            "outputs": [],
            "execution_count": null
        },
        {
            "cell_type": "code",
            "source": [
                "select top 5 movie_title+' '+release_date from movie_gross \r\n",
                "--error เนื่องจากประเภทข้อมูลไม่สามารถนำมาเชื่อมกันได้\r\n",
                "--Msg 402, Level 16, State 1, Line 1 The data types varchar and date are incompatible in the add operator.\r\n",
                "\r\n",
                ""
            ],
            "metadata": {
                "azdata_cell_guid": "ab448bc7-f23d-45ff-9ef5-b8443f57cce3",
                "language": "sql"
            },
            "outputs": [],
            "execution_count": null
        },
        {
            "cell_type": "code",
            "source": [
                "select top 5 concat(movie_title, ' (', release_date, ')') from movie_gross\r\n",
                "--แก้ไขโดยใช้ concat()\r\n",
                "\r\n",
                "\r\n",
                ""
            ],
            "metadata": {
                "azdata_cell_guid": "ee1f7e7a-bf9e-42c5-88de-5e403d9031cc",
                "language": "sql"
            },
            "outputs": [],
            "execution_count": null
        },
        {
            "cell_type": "code",
            "source": [
                "select top 5 concat(movie_title, ' (', year(release_date), ')') from movie_gross\r\n",
                "--เอาแต่ปี\r\n",
                "\r\n",
                "\r\n",
                ""
            ],
            "metadata": {
                "azdata_cell_guid": "66259d1d-480a-4ca0-bcb5-f0da4758bfda",
                "language": "sql"
            },
            "outputs": [],
            "execution_count": null
        },
        {
            "cell_type": "code",
            "source": [
                "select top 5 \r\n",
                "movie_title,total_gross,\r\n",
                "concat(movie_title,' (',total_gross,')'),\r\n",
                "concat(movie_title,' (',format(total_gross,'N0'),')'),\r\n",
                "concat(movie_title,' (',format(total_gross,'#,##0 USD'),')')\r\n",
                "from movie_gross\r\n",
                "\r\n",
                "\r\n",
                "\r\n",
                ""
            ],
            "metadata": {
                "azdata_cell_guid": "d774d357-05d2-430e-a725-e61611c97a55",
                "language": "sql"
            },
            "outputs": [],
            "execution_count": null
        },
        {
            "cell_type": "markdown",
            "source": [
                "# **สอน SQL เบื้องต้น: การทำงานกับสตริง SUBSTRING(), CHARINDEX(), LEFT()**"
            ],
            "metadata": {
                "language": "sql",
                "azdata_cell_guid": "10378c1b-fd70-4b7a-b205-e6ec713ef359"
            },
            "attachments": {}
        },
        {
            "cell_type": "code",
            "source": [
                "select top 5\r\n",
                "movie_title,\r\n",
                "upper(movie_title)[ตัวใหญ่],\r\n",
                "lower(movie_title)[ตัวเล็ก],\r\n",
                "len(movie_title)[ความยาวตัวอักษร],\r\n",
                "substring(movie_title,1,10)[เอาตัวอักษรตัวที่ 1 เอา 10 ตัว],\r\n",
                "substring(movie_title,2,3)[เอาตัวอักษรตัวที่ 2 เอา 3 ตัว]\r\n",
                "from movie_gross\r\n",
                "\r\n",
                "\r\n",
                "\r\n",
                ""
            ],
            "metadata": {
                "azdata_cell_guid": "611c1ccb-286a-454d-afcd-41baf3213255",
                "language": "sql",
                "tags": []
            },
            "outputs": [],
            "execution_count": null
        },
        {
            "cell_type": "code",
            "source": [
                "select top 1 with ties movie_title, len(movie_title) [_length] from movie_gross order by _length DESC"
            ],
            "metadata": {
                "azdata_cell_guid": "8969a2bc-e3b0-4a65-bd58-d96064131d82",
                "language": "sql"
            },
            "outputs": [],
            "execution_count": null
        },
        {
            "cell_type": "code",
            "source": [
                "select top 5 * from director --อยากจะแยกชื่อ+นามสกุล ของ director"
            ],
            "metadata": {
                "azdata_cell_guid": "f7b9e2a0-3e1c-4419-98b7-ed037f450457",
                "language": "sql"
            },
            "outputs": [],
            "execution_count": null
        },
        {
            "cell_type": "code",
            "source": [
                "select top 5 movie_title,director,\r\n",
                "charindex(' ',director)[space],--หาตำแหน่งที่มี space(' ') ใน column director\r\n",
                "substring(director,1,charindex(' ',director)-1)[first_name],--เอาตัวอักษรแรกถึงตัว spacebar แล้ว -1 เอา spacebar ออก\r\n",
                "substring(director,charindex(' ',director)+1,100)[last_name],\r\n",
                "left(director,charindex(' ',director)-1) --เหมือนบรรทัดที่ 3 แต่เขียนคนละแบบ\r\n",
                "from director\r\n",
                "\r\n",
                "\r\n",
                "\r\n",
                ""
            ],
            "metadata": {
                "azdata_cell_guid": "ce90b025-08be-4219-afa1-f506d04d483b",
                "language": "sql"
            },
            "outputs": [],
            "execution_count": null
        },
        {
            "cell_type": "code",
            "source": [
                "select top 5 movie_title,\r\n",
                "substring(director,1,charindex(' ',director)-1)[first_name],\r\n",
                "substring(director,charindex(' ',director)+1,100)[last_name],\r\n",
                "upper(substring(director,charindex(' ',director)+1,100)+', '+substring(director,1,1)+'.')[**เอาไปใช้จริง]\r\n",
                "from director\r\n",
                "\r\n",
                "\r\n",
                ""
            ],
            "metadata": {
                "azdata_cell_guid": "8b1ed17f-63ed-4c3e-8194-a35646e7dc91",
                "language": "sql"
            },
            "outputs": [],
            "execution_count": null
        },
        {
            "cell_type": "markdown",
            "source": [
                "# **สอน SQL เบื้องต้น: การสร้าง data bars ด้วยฟังก์ชัน REPLICATE() และ NCHAR()**"
            ],
            "metadata": {
                "language": "sql",
                "azdata_cell_guid": "79a34918-6322-4186-be2b-22d03f239a0b"
            },
            "attachments": {}
        },
        {
            "cell_type": "code",
            "source": [
                "select replicate('+',10),replicate('|',20)"
            ],
            "metadata": {
                "azdata_cell_guid": "58460297-9206-4fb2-a43c-8221b9dae2dc",
                "language": "sql"
            },
            "outputs": [],
            "execution_count": null
        },
        {
            "cell_type": "code",
            "source": [
                "select nchar(65),nchar(0x41),nchar(0x2588),nchar(0x2591)"
            ],
            "metadata": {
                "azdata_cell_guid": "4ba065e7-6b18-4047-bfd2-320acd1a6b1f",
                "language": "sql"
            },
            "outputs": [],
            "execution_count": null
        },
        {
            "cell_type": "code",
            "source": [
                "select replicate(nchar(0x2588),10),replicate(nchar(0x2591),10)"
            ],
            "metadata": {
                "azdata_cell_guid": "4b707efc-b08e-450d-937a-c899b01842f8",
                "language": "sql"
            },
            "outputs": [],
            "execution_count": null
        },
        {
            "cell_type": "code",
            "source": [
                "select director, count(*) [No.movie],\r\n",
                "replicate(nchar(0x2588)+' ',count(*)),\r\n",
                "replicate(nchar(0x2591)+' ',count(*))\r\n",
                "from director group by director order by count(*) desc\r\n",
                "\r\n",
                ""
            ],
            "metadata": {
                "azdata_cell_guid": "663a8815-8c54-44ce-9c9d-0753f525d1ef",
                "language": "sql"
            },
            "outputs": [],
            "execution_count": null
        },
        {
            "cell_type": "code",
            "source": [
                "select year(release_date) [YEAR],count(*) [no._movie_release],replicate(nchar(0x2589),count(*))\r\n",
                "from movie_gross where year(release_date) > 2000\r\n",
                "group by year(release_date) order by [no._movie_release] desc\r\n",
                "\r\n",
                "\r\n",
                ""
            ],
            "metadata": {
                "azdata_cell_guid": "f22f1ca7-7071-42b6-8905-cf5317bb3803",
                "language": "sql"
            },
            "outputs": [],
            "execution_count": null
        },
        {
            "cell_type": "markdown",
            "source": [
                "# **สอน SQL เบื้องต้น: การแสดงผลแบบ stacked bar**"
            ],
            "metadata": {
                "language": "sql",
                "azdata_cell_guid": "fed1fac2-da38-4ba4-b01a-2a526688d0f7"
            },
            "attachments": {}
        },
        {
            "cell_type": "code",
            "source": [
                "select nchar(0x2591), nchar(0x2592), nchar(0x2593)"
            ],
            "metadata": {
                "azdata_cell_guid": "9dd5d3b7-3e50-4d0b-b075-7fba27ceff3e",
                "language": "sql"
            },
            "outputs": [],
            "execution_count": null
        },
        {
            "cell_type": "code",
            "source": [
                "select nchar(0x2591) as [░ like], nchar(0x2592) as [▒ neutral], nchar(0x2593) as [▓ dislike]"
            ],
            "metadata": {
                "azdata_cell_guid": "56a659f1-3df5-4ac4-aff0-245eedddce33",
                "language": "sql"
            },
            "outputs": [],
            "execution_count": null
        },
        {
            "cell_type": "markdown",
            "source": [
                "# **สอน SQL เบื้องต้น: การทำงานกับข้อมูลวันที่ด้วยฟังก์ชัน DATEPART, DATENAME และ FORMAT**"
            ],
            "metadata": {
                "language": "sql",
                "azdata_cell_guid": "75244650-558a-448a-b298-f49af96efc48"
            },
            "attachments": {}
        },
        {
            "cell_type": "code",
            "source": [
                "select top 5 release_date,\r\n",
                "year(release_date)[year],\r\n",
                "month(release_date)[month],\r\n",
                "day(release_date)[date]\r\n",
                "from movie_gross\r\n",
                "\r\n",
                "\r\n",
                "\r\n",
                "\r\n",
                ""
            ],
            "metadata": {
                "azdata_cell_guid": "82f6f46c-18db-4da4-b13a-916357272095",
                "language": "sql"
            },
            "outputs": [],
            "execution_count": null
        },
        {
            "cell_type": "code",
            "source": [
                "select top 5 release_date,\r\n",
                "DATEPART(year,release_date)[year],\r\n",
                "DATEPART(month,release_date)[month],\r\n",
                "DATEPART(day,release_date)[date],\r\n",
                "DATEPART(week,release_date)[week],\r\n",
                "DATEPART(weekday,release_date)[weekday],\r\n",
                "DATENAME(weekday,release_date)[day_name], --นับแบบเริ่มวันอาทิตย์\r\n",
                "DATENAME(month,release_date)[month_name]\r\n",
                "from movie_gross"
            ],
            "metadata": {
                "azdata_cell_guid": "8db224b8-176f-47ed-8cf0-08b6af9e688b",
                "language": "sql"
            },
            "outputs": [],
            "execution_count": null
        },
        {
            "cell_type": "code",
            "source": [
                "select top 10 release_date,\r\n",
                "format(release_date,'d','th')[d-th],\r\n",
                "format(release_date,'dd','th')[dd-th],\r\n",
                "format(release_date,'ddd','th')[ddd-th],\r\n",
                "format(release_date,'dddd','th')[dddd-th],\r\n",
                "format(release_date,'M','th')[M-th],\r\n",
                "format(release_date,'MM','th')[MM-th],\r\n",
                "format(release_date,'MMM','th')[MMM-th],\r\n",
                "format(release_date,'MMMM','th')[MMMM-th]\r\n",
                "from movie_gross\r\n",
                "\r\n",
                ""
            ],
            "metadata": {
                "azdata_cell_guid": "3fbe527a-1def-498d-872e-d8d1aff23f00",
                "language": "sql"
            },
            "outputs": [],
            "execution_count": null
        },
        {
            "cell_type": "code",
            "source": [
                "select top 10 release_date,\r\n",
                "format(release_date,'d','en')[d-en],\r\n",
                "format(release_date,'dd','en')[dd-en],\r\n",
                "format(release_date,'ddd','en')[ddd-en],\r\n",
                "format(release_date,'dddd','en')[dddd-en],\r\n",
                "format(release_date,'M','en')[M-en],\r\n",
                "format(release_date,'MM','en')[MM-en],\r\n",
                "format(release_date,'MMM','en')[MMM-en],\r\n",
                "format(release_date,'MMMM','en')[MMMM-en]\r\n",
                "from movie_gross\r\n",
                "\r\n",
                ""
            ],
            "metadata": {
                "azdata_cell_guid": "cc578c74-3d3b-4472-b41e-21dd4b81dbd6",
                "language": "sql"
            },
            "outputs": [],
            "execution_count": null
        },
        {
            "cell_type": "code",
            "source": [
                "select\r\n",
                "format(release_date,'ddd','en')[date],\r\n",
                "count(*)[no._movie]\r\n",
                "from movie_gross group by format(release_date,'ddd','en') order by [no._movie] desc\r\n",
                ""
            ],
            "metadata": {
                "azdata_cell_guid": "63eb5a8d-0592-43cd-a87c-74c232a86f8f",
                "language": "sql",
                "tags": []
            },
            "outputs": [],
            "execution_count": null
        },
        {
            "cell_type": "markdown",
            "source": [
                "# **สอน SQL เบื้องต้น: การใช้ฟังก์ชันด้านวันที่ GETDATE(), DATEDIFF(), DATEADD()**"
            ],
            "metadata": {
                "language": "sql",
                "azdata_cell_guid": "a6b7a8c2-d4f7-4f05-828d-65d59063dd4d"
            },
            "attachments": {}
        },
        {
            "cell_type": "code",
            "source": [
                "select getdate() --หาวันที่ปัจจุบัน"
            ],
            "metadata": {
                "azdata_cell_guid": "771b8e27-e17c-454f-b1d5-9b00a9a5b283",
                "language": "sql"
            },
            "outputs": [],
            "execution_count": null
        },
        {
            "cell_type": "code",
            "source": [
                "select\r\n",
                "datediff(month,'1989-12-28',getdate())[day_noformat], --ถามอายุ หาเป็น วัน เดือน ปี\r\n",
                "format(datediff(day,'1989-12-28',getdate()),'N0')[day],\r\n",
                "datediff(month,'1989-12-28',getdate())[month],\r\n",
                "datediff(year,'1989-12-28',getdate())[year]"
            ],
            "metadata": {
                "azdata_cell_guid": "d0f16cc5-ebfe-4bb7-bb37-a79d5b87e3b6",
                "language": "sql"
            },
            "outputs": [],
            "execution_count": null
        },
        {
            "cell_type": "code",
            "source": [
                "select \r\n",
                "movie_title,\r\n",
                "release_date,\r\n",
                "format(DATEDIFF(day,release_date,getdate()),'N0')[movie_age(days)]\r\n",
                "from movie_gross"
            ],
            "metadata": {
                "azdata_cell_guid": "aa1f5960-bf1b-4ad1-b3a7-5f821cc41fd5",
                "language": "sql"
            },
            "outputs": [],
            "execution_count": null
        },
        {
            "cell_type": "code",
            "source": [
                "select\r\n",
                "getdate(), --ปัจจุบัน\r\n",
                "dateadd(day,5,getdate()), --บวกไปอีก 5วันจากปัจจุบัน\r\n",
                "dateadd(day,-5,getdate()), --ลบไปอีก 5วันจากปัจจุบัน\r\n",
                "format(dateadd(day,5,getdate()), 'dd-MM-yy','th'),\r\n",
                "format(dateadd(day,5,getdate()), 'dd-MMM-yy','th'),\r\n",
                "format(dateadd(day,5,getdate()), 'dd-MMMM-yy','th')\r\n",
                "\r\n",
                "\r\n",
                ""
            ],
            "metadata": {
                "azdata_cell_guid": "310b1c0c-458d-4981-8afc-5542b7562475",
                "language": "sql",
                "tags": []
            },
            "outputs": [],
            "execution_count": null
        },
        {
            "cell_type": "markdown",
            "source": [
                "# **สอน SQL เบื้องต้น: การหาผลต่างของเวลาว่าเป็นกี่ชั่วโมงกับอีกกี่นาทีเพื่อคำนวณค่าบริการจอดรถ**"
            ],
            "metadata": {
                "language": "sql",
                "azdata_cell_guid": "d852fc5d-50eb-4a3c-a17c-7de0087b454a"
            },
            "attachments": {}
        },
        {
            "cell_type": "code",
            "source": [
                "select\r\n",
                "cast('2019-9-14 10:35' as datetime)[in_time],\r\n",
                "cast('2019-9-14 14:56' as datetime)[out_time],\r\n",
                "datediff(minute,cast('2019-9-14 10:35' as datetime),cast('2019-9-14 14:56' as datetime))[parking_time(minute)],\r\n",
                "datediff(minute,cast('2019-9-14 10:35' as datetime),cast('2019-9-14 14:56' as datetime)) /60 hh,\r\n",
                "datediff(minute,cast('2019-9-14 10:35' as datetime),cast('2019-9-14 14:56' as datetime)) % 60 mm"
            ],
            "metadata": {
                "azdata_cell_guid": "d582d14f-e2d6-42ff-832f-f63a074bd83a",
                "language": "sql"
            },
            "outputs": [],
            "execution_count": null
        },
        {
            "cell_type": "code",
            "source": [
                "drop table if exists car_park;\r\n",
                "\r\n",
                "create table car_park(\r\n",
                "    plate_num nvarchar(8),\r\n",
                "    in_time datetime,\r\n",
                "    out_time datetime\r\n",
                ");\r\n",
                "\r\n",
                "\r\n",
                ""
            ],
            "metadata": {
                "azdata_cell_guid": "813ca864-9dc2-4785-b30c-d694e7d20c5a",
                "language": "sql",
                "tags": []
            },
            "outputs": [],
            "execution_count": null
        },
        {
            "cell_type": "code",
            "source": [
                "insert into car_park values\r\n",
                "(N'กก 1234','2019-10-20 11:00','2019-10-20 13:00'),\r\n",
                "(N'ขข 5678','2019-10-20 11:00','2019-10-20 14:25')"
            ],
            "metadata": {
                "azdata_cell_guid": "1ac50d6e-38f8-4070-81cb-922ed9d02725",
                "language": "sql",
                "tags": []
            },
            "outputs": [],
            "execution_count": null
        },
        {
            "cell_type": "code",
            "source": [
                "--ค่าจอดรถ 40บาท/ชม. **เกิน 15 นาทีปัดเป็น 1ชั่วโมง\r\n",
                "select *,\r\n",
                "datediff(minute, in_time, out_time)/60 [hh],\r\n",
                "datediff(minute, in_time, out_time)%60 [mm],\r\n",
                "datediff(minute, in_time, out_time)/60 * 40 + iif(datediff(minute, in_time, out_time)%60 > 15, 40, 0) fee\r\n",
                "from car_park"
            ],
            "metadata": {
                "azdata_cell_guid": "a46003f5-cb90-4844-8bc2-65848a07baf8",
                "language": "sql",
                "tags": []
            },
            "outputs": [],
            "execution_count": null
        },
        {
            "cell_type": "code",
            "source": [
                "--ค่าจอดรถ 40บาท/ชม. **เกิน 15 นาทีปัดเป็น 1ชั่วโมง\r\n",
                "declare @rate int = 40\r\n",
                "select\r\n",
                "plate_num,\r\n",
                "format(in_time, 'yy-MM-dd HH:MM')[in_time 24hr.],\r\n",
                "format(out_time, 'yy-MM-dd HH:MM')[out_time 24hr.],\r\n",
                "format(in_time, 'yy-MM-dd hh:mm:tt')[in_time AM/PM],\r\n",
                "format(out_time, 'yy-MM-dd hh:mm:tt')[out_time AM/PM],\r\n",
                "datediff(minute, in_time, out_time)/60 [hh],\r\n",
                "datediff(minute, in_time, out_time)%60 [mm],\r\n",
                "datediff(minute, in_time, out_time)/60 * @rate + iif(datediff(minute, in_time, out_time)%60 > 15, @rate, 0) fee\r\n",
                "from car_park\r\n",
                "\r\n",
                "\r\n",
                "\r\n",
                "\r\n",
                ""
            ],
            "metadata": {
                "azdata_cell_guid": "519d229e-e9b0-46aa-8703-912433b39785",
                "language": "sql",
                "tags": []
            },
            "outputs": [],
            "execution_count": null
        },
        {
            "cell_type": "markdown",
            "source": [
                "# **สอน SQL เบื้องต้น: การจัดรูปแบบการแสดงผลตัวเลขด้วยฟังก์ชัน FORMAT()**"
            ],
            "metadata": {
                "language": "sql",
                "azdata_cell_guid": "1b265b55-c4f1-4388-b66a-d0fb4e0ceb9c"
            },
            "attachments": {}
        },
        {
            "cell_type": "code",
            "source": [
                "select * from movie_gross"
            ],
            "metadata": {
                "azdata_cell_guid": "ef30f1d5-3c1f-4aff-81c4-54dc0df755d4",
                "language": "sql"
            },
            "outputs": [],
            "execution_count": null
        },
        {
            "cell_type": "code",
            "source": [
                "select top 10 movie_title,\r\n",
                "inflation_adjusted_gross,\r\n",
                "format(inflation_adjusted_gross,'N')[N], --คั่น 3หลักแบบมีทศนิยม 2ตำแหน่ง\r\n",
                "format(inflation_adjusted_gross,'N0')[N0], --คั่น 3หลักแบบไม่มีทศนิยม\r\n",
                "format(inflation_adjusted_gross,'#,##0')[#,##0], --คั่น 3หลักแบบไม่มีทศนิยม\r\n",
                "format(inflation_adjusted_gross,'#,##0,')[#,##0,], --หลักพัน\r\n",
                "format(inflation_adjusted_gross,'#,##0,,')[#,##0,,], --หลักล้าน\r\n",
                "format(inflation_adjusted_gross,'#,##0,,.0')[#,##0,,.0], --หลักล้านแบบมีทศนิยม 1หลัก\r\n",
                "format(inflation_adjusted_gross,'#,##0,,.0m')[#,##0,,.0m] --หลักล้านแบบมีทศนิยม 1หลัก เติมตัวอักษร m เข้าไป\r\n",
                "from movie_gross\r\n",
                "\r\n",
                ""
            ],
            "metadata": {
                "azdata_cell_guid": "3021d17c-56a3-4a2b-9e84-c9f630a7d11c",
                "language": "sql"
            },
            "outputs": [],
            "execution_count": null
        },
        {
            "cell_type": "code",
            "source": [
                "select top 10 movie_title,\r\n",
                "inflation_adjusted_gross,\r\n",
                "format(inflation_adjusted_gross*36.7,'#,##0,,.0(M$thb)')[#,##0,,.0(M$thb)]\r\n",
                "from movie_gross\r\n",
                "\r\n",
                "\r\n",
                ""
            ],
            "metadata": {
                "azdata_cell_guid": "9f395eab-e718-4eb8-9d14-793187e56f5d",
                "language": "sql"
            },
            "outputs": [],
            "execution_count": null
        },
        {
            "cell_type": "code",
            "source": [
                "select top 10 movie_title,\r\n",
                "inflation_adjusted_gross,\r\n",
                "format(inflation_adjusted_gross,'N')[N], --คั่น 3หลักแบบมีทศนิยม 2ตำแหน่ง\r\n",
                "format(inflation_adjusted_gross,'N','eu')[N+eu] --ยุโรปใช้แบบนี้\r\n",
                "from movie_gross"
            ],
            "metadata": {
                "azdata_cell_guid": "22a32c85-d735-4a7d-8208-b04cf198781a",
                "language": "sql"
            },
            "outputs": [],
            "execution_count": null
        },
        {
            "cell_type": "code",
            "source": [
                "select genre, format(sum(inflation_adjusted_gross),'N') [N] from movie_gross group by genre order by N desc"
            ],
            "metadata": {
                "azdata_cell_guid": "6b57024e-39be-46a3-87f4-c0c7594fb936",
                "language": "sql"
            },
            "outputs": [],
            "execution_count": null
        },
        {
            "cell_type": "code",
            "source": [
                "with cte as (select genre, sum(inflation_adjusted_gross) gross from movie_gross group by genre)\r\n",
                "select genre,gross,\r\n",
                "gross * 1.0/(select sum(gross) from cte)[pct of total],\r\n",
                "format(gross * 1.0/(select sum(gross) from cte), 'P')[P], --%ทศนิยม 2 ตำแหน่ง\r\n",
                "format(gross * 1.0/(select sum(gross) from cte), 'P4')[P4] --%ทศนิยม 4 ตำแหน่ง\r\n",
                "from cte order by gross desc\r\n",
                "\r\n",
                "\r\n",
                "\r\n",
                ""
            ],
            "metadata": {
                "azdata_cell_guid": "bb7dea7c-e536-498f-89b2-ce8c972ece02",
                "language": "sql"
            },
            "outputs": [],
            "execution_count": null
        },
        {
            "cell_type": "markdown",
            "source": [
                "# **สอน SQL เบื้องต้น: การใช้ GROUP BY เพื่อสรุปข้อมูล เช่น COUNT, SUM, AVG, MIN, MAX**"
            ],
            "metadata": {
                "language": "sql",
                "azdata_cell_guid": "7ca03e5c-1f45-4864-a1ae-e3f26af9cd7f"
            },
            "attachments": {}
        },
        {
            "cell_type": "code",
            "source": [
                "select movie_title,genre,inflation_adjusted_gross from movie_gross where genre = 'drama'"
            ],
            "metadata": {
                "azdata_cell_guid": "2e1ca884-e41c-4271-9b9c-f15631a1b3df",
                "language": "sql"
            },
            "outputs": [],
            "execution_count": null
        },
        {
            "cell_type": "code",
            "source": [
                "select genre, SUM(inflation_adjusted_gross)[income_sum] from movie_gross group by genre order by income_sum DESC"
            ],
            "metadata": {
                "azdata_cell_guid": "f6d66d8e-85a8-4b7a-904f-5188f2d4c567",
                "language": "sql"
            },
            "outputs": [],
            "execution_count": null
        },
        {
            "cell_type": "code",
            "source": [
                "select\r\n",
                "count(*),\r\n",
                "sum(inflation_adjusted_gross)[SUM],\r\n",
                "avg(inflation_adjusted_gross)[AVG],\r\n",
                "min(inflation_adjusted_gross)[MIN],\r\n",
                "max(inflation_adjusted_gross)[MAX]\r\n",
                "from movie_gross\r\n",
                "\r\n",
                "\r\n",
                ""
            ],
            "metadata": {
                "azdata_cell_guid": "42bae87a-ae2a-4cdf-80eb-c4498d432007",
                "language": "sql"
            },
            "outputs": [],
            "execution_count": null
        },
        {
            "cell_type": "code",
            "source": [
                "select genre,datepart(year,release_date),count(*),\r\n",
                "sum(inflation_adjusted_gross) [total_gross],\r\n",
                "avg(inflation_adjusted_gross) [avg_gross]\r\n",
                "from movie_gross group by genre,datepart(year,release_date) order by genre,datepart(year,release_date)\r\n",
                "\r\n",
                "\r\n",
                ""
            ],
            "metadata": {
                "azdata_cell_guid": "90770f83-6dff-49e4-8b45-0fc160a6fffa",
                "language": "sql"
            },
            "outputs": [],
            "execution_count": null
        },
        {
            "cell_type": "code",
            "source": [
                "select genre,count(*) [no._movie],\r\n",
                "sum(inflation_adjusted_gross) [total_gross],\r\n",
                "avg(inflation_adjusted_gross) [avg_gross]\r\n",
                "from movie_gross\r\n",
                "--where genre in ('adventure','drama') --ถ้าใช้โค๊ดนี้ผลลัพธ์จะออกมาแค่ genre = adventure,drama \r\n",
                "group by genre\r\n",
                "having count(*) >100 --ใช้กรองข้อมูลที่ผ่านการ group มาแล้วต่างจาก where ที่กรองข้อมูลจากตาราง\r\n",
                "order by total_gross desc"
            ],
            "metadata": {
                "azdata_cell_guid": "852509a5-0f6f-461c-9da0-97a33793583f",
                "language": "sql"
            },
            "outputs": [],
            "execution_count": null
        },
        {
            "cell_type": "markdown",
            "source": [
                "# **สอน SQL เบื้องต้น: การกรองผลลัพธ์ด้วย WHERE และ HAVING**"
            ],
            "metadata": {
                "language": "sql",
                "azdata_cell_guid": "f40e2896-e87b-4628-9235-dd12eaaaae60"
            },
            "attachments": {}
        },
        {
            "cell_type": "code",
            "source": [
                "select genre,count(*) from movie_gross group by genre having count(*)>100 order by count(*) desc"
            ],
            "metadata": {
                "azdata_cell_guid": "71a86dc5-0551-4720-b49f-03e437bac2e2",
                "language": "sql"
            },
            "outputs": [],
            "execution_count": null
        },
        {
            "cell_type": "code",
            "source": [
                "select datepart(year,release_date),count(*)\r\n",
                "from movie_gross\r\n",
                "where datepart(year,release_date) > 2000\r\n",
                "group by datepart(year,release_date)\r\n",
                "\r\n",
                "\r\n",
                "\r\n",
                "\r\n",
                "\r\n",
                ""
            ],
            "metadata": {
                "azdata_cell_guid": "a799962b-c2c3-4735-a1be-758a1c2c01a0",
                "language": "sql",
                "tags": []
            },
            "outputs": [],
            "execution_count": null
        },
        {
            "cell_type": "code",
            "source": [
                "select datepart(year,release_date),count(*)\r\n",
                "from movie_gross\r\n",
                "where datepart(year,release_date) > 2000\r\n",
                "group by datepart(year,release_date)\r\n",
                "having count(*)>15\r\n",
                "order by count(*) desc\r\n",
                "\r\n",
                "\r\n",
                "\r\n",
                ""
            ],
            "metadata": {
                "azdata_cell_guid": "dcfc1115-7e6c-44f7-9f2e-a96a2dfa0f99",
                "language": "sql"
            },
            "outputs": [],
            "execution_count": null
        },
        {
            "cell_type": "markdown",
            "source": [
                "# **สอน SQL เบื้องต้น: การใช้ GROUPING SETS ช่วยในการสรุปข้อมูลตามกลุ่มย่อยหลาย ๆ กลุ่มพร้อม ๆ กัน**"
            ],
            "metadata": {
                "language": "sql",
                "azdata_cell_guid": "e96838f9-022e-4a19-8d0b-22e82b5f313d"
            },
            "attachments": {}
        },
        {
            "cell_type": "code",
            "source": [
                "select * from movie_gross where datepart(year,release_date)>2013"
            ],
            "metadata": {
                "azdata_cell_guid": "39fecd15-4994-49c8-bf0f-da9df56c8725",
                "language": "sql"
            },
            "outputs": [],
            "execution_count": null
        },
        {
            "cell_type": "code",
            "source": [
                "select genre,sum(total_gross) from movie_gross where datepart(year,release_date)>2013 group by genre"
            ],
            "metadata": {
                "azdata_cell_guid": "a613397b-01af-4c4f-9b5c-8329ffdbdbb0",
                "language": "sql"
            },
            "outputs": [],
            "execution_count": null
        },
        {
            "cell_type": "code",
            "source": [
                "select datepart(year,release_date) year,genre,\r\n",
                "sum(total_gross)\r\n",
                "from movie_gross\r\n",
                "where datepart(year,release_date)>2013 group by genre,datepart(year,release_date)\r\n",
                "\r\n",
                "\r\n",
                "\r\n",
                ""
            ],
            "metadata": {
                "azdata_cell_guid": "8ba24f92-7fa9-4581-93ea-994a9197d2a6",
                "language": "sql"
            },
            "outputs": [],
            "execution_count": null
        },
        {
            "cell_type": "code",
            "source": [
                "select datepart(year,release_date) year, genre, sum(total_gross) gross\r\n",
                "from movie_gross\r\n",
                "where datepart(year,release_date)>2013\r\n",
                "group by\r\n",
                "    GROUPING SETS (\r\n",
                "        (datepart(year,release_date), genre),\r\n",
                "        (datepart(year,release_date)),\r\n",
                "        (genre)\r\n",
                "    )\r\n",
                "having genre IS NULL\r\n",
                "order by year, genre\r\n",
                "\r\n",
                "\r\n",
                "\r\n",
                "\r\n",
                "\r\n",
                "\r\n",
                "\r\n",
                ""
            ],
            "metadata": {
                "azdata_cell_guid": "2a1fb14a-c411-4a79-9ff6-7643fa95188e",
                "language": "sql"
            },
            "outputs": [],
            "execution_count": null
        },
        {
            "cell_type": "markdown",
            "source": [
                "# **สอน SQL เบื้องต้น: การสรุปรวมข้อมูลเป็นขั้น ๆ ด้วย ROLLUP เช่น สรุปยอดขายรายวัน รายเดือน รายปี**"
            ],
            "metadata": {
                "language": "sql",
                "azdata_cell_guid": "cef8fe03-ac84-483e-9d27-13429a069949"
            },
            "attachments": {}
        },
        {
            "cell_type": "code",
            "source": [
                "select datepart(year,release_date) year, sum(inflation_adjusted_gross) sum\r\n",
                "from movie_gross group by datepart(year,release_date) order by year\r\n",
                "\r\n",
                "\r\n",
                "\r\n",
                ""
            ],
            "metadata": {
                "azdata_cell_guid": "221c5c7f-783e-4942-9450-528404f9d34c",
                "language": "sql"
            },
            "outputs": [],
            "execution_count": null
        },
        {
            "cell_type": "code",
            "source": [
                "select datepart(year,release_date) [year],\r\n",
                "datepart(quarter,release_date) [quarter],\r\n",
                "sum(inflation_adjusted_gross) [total]\r\n",
                "from movie_gross\r\n",
                "group by rollup(datepart(year,release_date),datepart(quarter,release_date))\r\n",
                "order by [year],[quarter]"
            ],
            "metadata": {
                "azdata_cell_guid": "fd23a2b0-dd16-4039-8591-d8df91a9c181",
                "language": "sql"
            },
            "outputs": [],
            "execution_count": null
        },
        {
            "cell_type": "code",
            "source": [
                "select datepart(year,release_date) [year],\r\n",
                "datepart(quarter,release_date) [quarter],\r\n",
                "sum(inflation_adjusted_gross) [total]\r\n",
                "from movie_gross\r\n",
                "group by rollup(datepart(year,release_date),datepart(quarter,release_date))\r\n",
                "having datepart(quarter,release_date) is null\r\n",
                "order by [year],[quarter]"
            ],
            "metadata": {
                "azdata_cell_guid": "4615a30b-0ca3-4ffd-8885-ec94510d8464",
                "language": "sql"
            },
            "outputs": [],
            "execution_count": null
        },
        {
            "cell_type": "markdown",
            "source": [
                "# **สอน SQL เบื้องต้น: การใช้ CASE ... WHEN ... END ในการตรวจสอบเงื่อนไข**"
            ],
            "metadata": {
                "language": "sql",
                "azdata_cell_guid": "ce256684-6690-4207-a85d-b4c08b034066"
            },
            "attachments": {}
        },
        {
            "cell_type": "code",
            "source": [
                "select distinct mpaa_rating from movie_gross"
            ],
            "metadata": {
                "azdata_cell_guid": "25c30029-53d9-4a4b-bce0-09e506d944fb",
                "language": "sql"
            },
            "outputs": [],
            "execution_count": null
        },
        {
            "cell_type": "code",
            "source": [
                "select movie_title, mpaa_rating,\r\n",
                "case mpaa_rating\r\n",
                "when 'G' then 'general audieces'\r\n",
                "when 'PG' then 'parental guidance'\r\n",
                "when 'PG-13' then 'parental guidance-13'\r\n",
                "when 'R' then 'restricted'\r\n",
                "else mpaa_rating\r\n",
                "end as [rating in full name] --มี as หรือ ไม่มีก็ได้\r\n",
                "from movie_gross"
            ],
            "metadata": {
                "azdata_cell_guid": "11d3525a-ae44-424f-97e9-e2fed5b70772",
                "language": "sql"
            },
            "outputs": [],
            "execution_count": null
        },
        {
            "cell_type": "code",
            "source": [
                "select movie_title,inflation_adjusted_gross,\r\n",
                "case\r\n",
                "when inflation_adjusted_gross between 0 and 1000000 then '0-1,000,000'\r\n",
                "when inflation_adjusted_gross between 1000001 and 50000000 then '1,000,001-50,000,000'\r\n",
                "when inflation_adjusted_gross between 50000001 and 100e6 then '50,000,001-100,000,000' -- 100e6 = 100000000 (แบบไหนก็ได้)\r\n",
                "when inflation_adjusted_gross between 100000001 and 500e6 then '100,000,001-500,000,000'\r\n",
                "when inflation_adjusted_gross between 500000001 and 1000e6 then '500,000,001-1,000,000,000'\r\n",
                "when inflation_adjusted_gross > 1000000000 then '> 1,000,000,000'\r\n",
                "end as gross\r\n",
                "from movie_gross"
            ],
            "metadata": {
                "azdata_cell_guid": "9f421427-d631-44ae-b7f0-f68eab614060",
                "language": "sql"
            },
            "outputs": [],
            "execution_count": null
        },
        {
            "cell_type": "code",
            "source": [
                "with cte as (\r\n",
                "select movie_title,inflation_adjusted_gross,\r\n",
                "case\r\n",
                "when inflation_adjusted_gross between 0 and 1000000 then '0-1,000,000'\r\n",
                "when inflation_adjusted_gross between 1000001 and 50000000 then '1,000,001-50,000,000'\r\n",
                "when inflation_adjusted_gross between 50000001 and 100e6 then '50,000,001-100,000,000' -- 100e6 = 100000000 (แบบไหนก็ได้)\r\n",
                "when inflation_adjusted_gross between 100000001 and 500e6 then '100,000,001-500,000,000'\r\n",
                "when inflation_adjusted_gross between 500000001 and 1000e6 then '500,000,001-1,000,000,000'\r\n",
                "when inflation_adjusted_gross > 1000000000 then '> 1,000,000,000'\r\n",
                "end as gross\r\n",
                "from movie_gross\r\n",
                ")\r\n",
                "select gross, count(gross) [no._movie] from cte group by gross"
            ],
            "metadata": {
                "azdata_cell_guid": "34061245-251f-4873-8cbf-90326df56c98",
                "language": "sql"
            },
            "outputs": [
                {
                    "output_type": "display_data",
                    "data": {
                        "text/html": "(6 rows affected)"
                    },
                    "metadata": {}
                },
                {
                    "output_type": "display_data",
                    "data": {
                        "text/html": "Total execution time: 00:00:00.014"
                    },
                    "metadata": {}
                },
                {
                    "output_type": "execute_result",
                    "metadata": {},
                    "execution_count": 91,
                    "data": {
                        "application/vnd.dataresource+json": {
                            "schema": {
                                "fields": [
                                    {
                                        "name": "gross"
                                    },
                                    {
                                        "name": "no._movie"
                                    }
                                ]
                            },
                            "data": [
                                {
                                    "0": "> 1,000,000,000",
                                    "1": "6"
                                },
                                {
                                    "0": "0-1,000,000",
                                    "1": "20"
                                },
                                {
                                    "0": "1,000,001-50,000,000",
                                    "1": "248"
                                },
                                {
                                    "0": "100,000,001-500,000,000",
                                    "1": "164"
                                },
                                {
                                    "0": "50,000,001-100,000,000",
                                    "1": "132"
                                },
                                {
                                    "0": "500,000,001-1,000,000,000",
                                    "1": "9"
                                }
                            ]
                        },
                        "text/html": [
                            "<table>",
                            "<tr><th>gross</th><th>no._movie</th></tr>",
                            "<tr><td>&gt; 1,000,000,000</td><td>6</td></tr>",
                            "<tr><td>0-1,000,000</td><td>20</td></tr>",
                            "<tr><td>1,000,001-50,000,000</td><td>248</td></tr>",
                            "<tr><td>100,000,001-500,000,000</td><td>164</td></tr>",
                            "<tr><td>50,000,001-100,000,000</td><td>132</td></tr>",
                            "<tr><td>500,000,001-1,000,000,000</td><td>9</td></tr>",
                            "</table>"
                        ]
                    }
                }
            ],
            "execution_count": 91
        },
        {
            "cell_type": "code",
            "source": [
                ""
            ],
            "metadata": {
                "azdata_cell_guid": "293d7901-df55-4937-9e38-689868ca45ac",
                "language": "sql"
            },
            "outputs": [],
            "execution_count": null
        },
        {
            "cell_type": "code",
            "source": [
                ""
            ],
            "metadata": {
                "azdata_cell_guid": "5f1e62b4-240b-469d-b6c2-f1da2fd2a456",
                "language": "sql"
            },
            "outputs": [],
            "execution_count": null
        },
        {
            "cell_type": "code",
            "source": [
                ""
            ],
            "metadata": {
                "azdata_cell_guid": "a5ad90a1-a584-4d75-9c9a-d9e51603fa0c",
                "language": "sql"
            },
            "outputs": [],
            "execution_count": null
        }
    ]
}