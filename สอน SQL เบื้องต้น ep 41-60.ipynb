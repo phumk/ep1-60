{
    "metadata": {
        "kernelspec": {
            "name": "SQL",
            "display_name": "SQL",
            "language": "sql"
        },
        "language_info": {
            "name": "sql",
            "version": ""
        }
    },
    "nbformat_minor": 2,
    "nbformat": 4,
    "cells": [
        {
            "cell_type": "markdown",
            "source": [
                "# **สอน SQL เบื้องต้น: การเชื่อมตารางแบบ INNER, LEFT, RIGHT OUTER JOIN**"
            ],
            "metadata": {
                "language": "sql",
                "azdata_cell_guid": "9dfc505d-e0b4-4c45-a1f7-b044c5a99cc8"
            },
            "attachments": {}
        },
        {
            "cell_type": "markdown",
            "source": [
                "**test add data --\\*\\***"
            ],
            "metadata": {
                "language": "sql",
                "azdata_cell_guid": "e41a4134-de9d-4c39-a911-cca6a8cbbb2d"
            },
            "attachments": {}
        },
        {
            "cell_type": "code",
            "source": [
                "select top 10 * from movie_gross"
            ],
            "metadata": {
                "azdata_cell_guid": "7f3311af-e80a-4b01-bd67-10fb5e5629f5",
                "language": "sql"
            },
            "outputs": [],
            "execution_count": null
        },
        {
            "cell_type": "code",
            "source": [
                "select * from movie_gross inner join director on movie_gross.movie_title = director.movie_title"
            ],
            "metadata": {
                "azdata_cell_guid": "e29987ac-e356-4a4b-ac40-d4a58ac8f6ed",
                "language": "sql"
            },
            "outputs": [],
            "execution_count": null
        },
        {
            "cell_type": "code",
            "source": [
                "select movie_gross.movie_title, movie_gross.inflation_adjusted_gross, director\r\n",
                "from movie_gross inner join director on\r\n",
                "movie_gross.movie_title = director.movie_title\r\n",
                "--ข้อมูลออกมาแค่ 49 แถว เพราะ table director ไม่ได้ข้อมูลของหนังทุกเรื่องเหมือน table movie gross\r\n",
                ""
            ],
            "metadata": {
                "azdata_cell_guid": "fcb5f82a-c669-41e0-9107-18c05deb825e",
                "language": "sql"
            },
            "outputs": [],
            "execution_count": null
        },
        {
            "cell_type": "code",
            "source": [
                "select m.movie_title, m.inflation_adjusted_gross, director\r\n",
                "from movie_gross [m] inner join director [d] on\r\n",
                "m.movie_title = d.movie_title --ตั้งชื่อเล่นให้ตาราง\r\n",
                "--ข้อมูลออกมาแค่ 49 แถว เพราะ table director ไม่ได้ข้อมูลของหนังทุกเรื่องเหมือน table movie gross\r\n",
                "\r\n",
                ""
            ],
            "metadata": {
                "azdata_cell_guid": "80399083-b88e-45b4-b60e-2cd7096d032d",
                "language": "sql"
            },
            "outputs": [],
            "execution_count": null
        },
        {
            "cell_type": "code",
            "source": [
                "select m.movie_title, m.inflation_adjusted_gross, director\r\n",
                "from movie_gross [m] left join director [d] on --เอาทุกแถวที่อยู่ในตาราง movie gross ตัวที่เชื่อมไม่ได้จะขึ้น NULL\r\n",
                "m.movie_title = d.movie_title\r\n",
                "--ข้อมูลออกมาแค่ 579 แถว เพราะ table director ไม่ได้ข้อมูลของหนังทุกเรื่องเหมือน table movie gross\r\n",
                "\r\n",
                ""
            ],
            "metadata": {
                "azdata_cell_guid": "5a43ab87-473e-450a-8b51-913360b2dc58",
                "language": "sql"
            },
            "outputs": [],
            "execution_count": null
        },
        {
            "cell_type": "code",
            "source": [
                "select m.movie_title, m.inflation_adjusted_gross, director\r\n",
                "from movie_gross [m] right join director [d] on --เอาทุกแถวที่อยู่ในตาราง movie gross ตัวที่เชื่อมไม่ได้จะขึ้น NULL\r\n",
                "m.movie_title = d.movie_title --ตั้งชื่อเล่นให้ตาราง\r\n",
                "--ข้อมูลออกมาแค่ 60 แถว เพราะ หนังที่มีชื่อ director มีแค่ 60 แถว\r\n",
                "\r\n",
                ""
            ],
            "metadata": {
                "azdata_cell_guid": "b1761041-a4e4-4eb0-bc38-29654b78fb4d",
                "language": "sql"
            },
            "outputs": [],
            "execution_count": null
        },
        {
            "cell_type": "code",
            "source": [
                "--เชื่อม 3 ตาราง movie gross, director, movie charactor\r\n",
                "select m.movie_title, m.inflation_adjusted_gross, director, song\r\n",
                "from movie_gross [m] left join director [d] on\r\n",
                "m.movie_title = d.movie_title left join disney_char [c] on m.movie_title = c.movie_title\r\n",
                "\r\n",
                ""
            ],
            "metadata": {
                "azdata_cell_guid": "75429f75-e2f0-4f9c-a958-624cfca04c5b",
                "language": "sql"
            },
            "outputs": [],
            "execution_count": null
        },
        {
            "cell_type": "code",
            "source": [
                "with cte as(\r\n",
                "select m.movie_title, m.inflation_adjusted_gross, director, song\r\n",
                "from movie_gross [m] left join director [d] on\r\n",
                "m.movie_title = d.movie_title left join disney_char [c] on m.movie_title = c.movie_title\r\n",
                ")\r\n",
                "select director, sum(inflation_adjusted_gross) [performance] from cte\r\n",
                "group by director\r\n",
                "having director is not null\r\n",
                "order by performance DESC\r\n",
                "\r\n",
                ""
            ],
            "metadata": {
                "azdata_cell_guid": "d3c5f089-dcd1-4bc4-97b2-e9aa01ff93b4",
                "language": "sql"
            },
            "outputs": [],
            "execution_count": null
        },
        {
            "cell_type": "markdown",
            "source": [
                "# **สอน SQL เบื้องต้น: การเชื่อมแถวในตารางเดียวกัน (SELF JOIN)**"
            ],
            "metadata": {
                "language": "sql",
                "azdata_cell_guid": "34c09c8f-60a0-41a5-bca0-e804d83649cb"
            },
            "attachments": {}
        },
        {
            "cell_type": "code",
            "source": [
                "--จะเปรียบเทียบรายได้ของ genre action & adventure\r\n",
                "with ac as(\r\n",
                "    select genre, datepart(year,release_date) [year], sum(inflation_adjusted_gross) [gross] from movie_gross\r\n",
                "    where genre in ('action') and datepart(year,release_date) > 2010\r\n",
                "    group by genre, datepart(year,release_date), genre),\r\n",
                "ad as (\r\n",
                "    select genre, datepart(year,release_date) [year], sum(inflation_adjusted_gross) [gross] from movie_gross\r\n",
                "    where genre in ('adventure') and datepart(year,release_date) > 2010\r\n",
                "    group by genre, datepart(year,release_date), genre)"
            ],
            "metadata": {
                "azdata_cell_guid": "1deeb9e8-1973-4ce6-8635-3cba0359ade3",
                "language": "sql"
            },
            "outputs": [],
            "execution_count": null
        },
        {
            "cell_type": "code",
            "source": [
                "--จะเปรียบเทียบรายได้ของ genre action & adventure\r\n",
                "with ac as(\r\n",
                "    select genre, datepart(year,release_date) [year], sum(inflation_adjusted_gross) [gross] from movie_gross\r\n",
                "    where genre in ('action') and datepart(year,release_date) > 2010\r\n",
                "    group by genre, datepart(year,release_date), genre),\r\n",
                "ad as (\r\n",
                "    select genre, datepart(year,release_date) [year], sum(inflation_adjusted_gross) [gross] from movie_gross\r\n",
                "    where genre in ('adventure') and datepart(year,release_date) > 2010\r\n",
                "    group by genre, datepart(year,release_date), genre)\r\n",
                "\r\n",
                "select ac.year, format(ac.gross,'N0')[action gross], format(ad.gross,'N0')[adventure gross] from ac inner join ad on ac.year = ad.year\r\n",
                ""
            ],
            "metadata": {
                "azdata_cell_guid": "373bacb8-702d-4452-b8bc-c069c5aaf303",
                "language": "sql"
            },
            "outputs": [],
            "execution_count": null
        },
        {
            "cell_type": "code",
            "source": [
                "with cte as (\r\n",
                "    select genre, datepart(year,release_date) [year], sum(inflation_adjusted_gross) [gross] from movie_gross\r\n",
                "    where genre in ('action','adventure') and datepart(year,release_date) > 2010\r\n",
                "    group by genre, datepart(year,release_date), genre)\r\n",
                "select * from cte"
            ],
            "metadata": {
                "language": "sql",
                "azdata_cell_guid": "d2e51a59-f94e-42dc-a03c-a69e7809e6f4",
                "tags": []
            },
            "outputs": [],
            "execution_count": null
        },
        {
            "cell_type": "code",
            "source": [
                "--จะเปรียบเทียบรายได้ของ genre action & adventure\r\n",
                "with cte as (\r\n",
                "    select genre, datepart(year,release_date) [year], sum(inflation_adjusted_gross) [gross] from movie_gross\r\n",
                "    where genre in ('action','adventure') and datepart(year,release_date) > 2010\r\n",
                "    group by genre, datepart(year,release_date), genre)\r\n",
                "\r\n",
                "select ac.year, format(ac.gross,'N0') [action], format(ad.gross,'N0') [adventure], format(ac.gross-ad.gross,'N0') [diff]\r\n",
                "from cte [ac] inner join cte [ad] on ac.year = ad.year and ac.genre = 'action' and ad.genre = 'adventure'\r\n",
                "\r\n",
                ""
            ],
            "metadata": {
                "azdata_cell_guid": "e6de29ba-11c9-4d1c-94a0-8e1b41d97963",
                "language": "sql"
            },
            "outputs": [],
            "execution_count": null
        },
        {
            "cell_type": "code",
            "source": [
                "--จะเปรียบเทียบรายได้ของ genre action & adventure & drama\r\n",
                "with cte as (\r\n",
                "    select genre, datepart(year,release_date) [year], sum(inflation_adjusted_gross) [gross] from movie_gross\r\n",
                "    where genre in ('action','adventure','drama') and datepart(year,release_date) > 2010\r\n",
                "    group by genre, datepart(year,release_date), genre)\r\n",
                "\r\n",
                "select ac.year, format(ac.gross,'N0') [action], format(ad.gross,'N0') [adventure], format(dr.gross,'N0') [drama]\r\n",
                "from cte [ac] inner join cte [ad] on ac.year = ad.year inner join cte [dr] on ad.year = dr.year\r\n",
                "and ac.genre = 'action' and ad.genre = 'adventure' and dr.genre = 'drama'"
            ],
            "metadata": {
                "language": "sql",
                "azdata_cell_guid": "1d5bbea2-cbc5-4ed4-a2d8-fffe52bfd789"
            },
            "outputs": [],
            "execution_count": null
        },
        {
            "cell_type": "markdown",
            "source": [
                "# **สอน SQL เบื้องต้น: การเชื่อมแถวในตารางเข้าด้วยกันแบบ CROSS JOIN (Cartesian product)**"
            ],
            "metadata": {
                "language": "sql",
                "azdata_cell_guid": "c9ea936b-ab9a-4c31-bdab-8e81ac6b8e4e"
            },
            "attachments": {}
        },
        {
            "cell_type": "code",
            "source": [
                "drop table if exists team;\r\n",
                "\r\n",
                "create table team (\r\n",
                "    name varchar(50),\r\n",
                "    rank int\r\n",
                ")"
            ],
            "metadata": {
                "language": "sql",
                "azdata_cell_guid": "88bf66cd-28ba-4549-bb7f-4e2126e66402"
            },
            "outputs": [],
            "execution_count": null
        },
        {
            "cell_type": "code",
            "source": [
                "insert into team values ('alpha',1), ('beta',2), ('gamma',3), ('delta',4)"
            ],
            "metadata": {
                "language": "sql",
                "azdata_cell_guid": "1ceeb343-8624-48a2-9ee2-9780d2db7e15"
            },
            "outputs": [],
            "execution_count": null
        },
        {
            "cell_type": "code",
            "source": [
                "select * from team"
            ],
            "metadata": {
                "azdata_cell_guid": "ab24a717-4e81-48f6-bc5a-5e4d62fec26b",
                "language": "sql"
            },
            "outputs": [],
            "execution_count": null
        },
        {
            "cell_type": "code",
            "source": [
                "select * from team t1 cross join team t2 --เขียนแบบนี้ก็ได้ select * from team t1, team t2"
            ],
            "metadata": {
                "azdata_cell_guid": "e046461b-890e-41f0-878e-b8662e34a3b6",
                "language": "sql"
            },
            "outputs": [],
            "execution_count": null
        },
        {
            "cell_type": "code",
            "source": [
                "select * from team [t1] cross join team [t2]\r\n",
                "where t1.name != t2.name\r\n",
                ""
            ],
            "metadata": {
                "azdata_cell_guid": "d04b148b-0763-4e63-9b7e-a620423be24f",
                "language": "sql"
            },
            "outputs": [],
            "execution_count": null
        },
        {
            "cell_type": "code",
            "source": [
                "select concat(t2.name, ' (', t2.rank, ')') [team_1],\r\n",
                "concat(t1.name, ' (', t1.rank, ')') [team_2]\r\n",
                "from team [t1] cross join team [t2]\r\n",
                "where t1.name != t2.name\r\n",
                "\r\n",
                ""
            ],
            "metadata": {
                "azdata_cell_guid": "d062d3ea-24ce-455c-b101-425823055b49",
                "language": "sql"
            },
            "outputs": [],
            "execution_count": null
        },
        {
            "cell_type": "code",
            "source": [
                "--PLAYING CARD\r\n",
                "select value [rank] from string_split('A,2,3,4,5,6,7,8,9,10,J,Q,K',',')\r\n",
                "\r\n",
                "\r\n",
                ""
            ],
            "metadata": {
                "azdata_cell_guid": "1fc217ab-ad7f-4dc1-a660-cc3f29ca5784",
                "language": "sql",
                "tags": []
            },
            "outputs": [],
            "execution_count": null
        },
        {
            "cell_type": "code",
            "source": [
                "with r as (\r\n",
                "    select value [rank] from string_split('A,2,3,4,5,6,7,8,9,10,J,Q,K',',')\r\n",
                "),\r\n",
                "s as(\r\n",
                "    select value [suit] from string_split(N' ♥, ♦, ♣, ♠',',')\r\n",
                ")\r\n",
                "\r\n",
                "select concat(r.rank,s.suit) from r,s --หรือ select concat(r.rank,s.suit) from r cross join s"
            ],
            "metadata": {
                "azdata_cell_guid": "081d30be-dca0-4909-9714-8a81f4ca5f33",
                "language": "sql"
            },
            "outputs": [],
            "execution_count": null
        },
        {
            "cell_type": "markdown",
            "source": [
                "# **สอน SQL เบื้องต้น: การใช้ UNION, INTERSECT และ EXCEPT**"
            ],
            "metadata": {
                "language": "sql",
                "azdata_cell_guid": "2aa518d6-0e8c-45eb-993a-78a83cb73b37"
            },
            "attachments": {}
        },
        {
            "cell_type": "code",
            "source": [
                "select movie_title,hero,villian from disney_char"
            ],
            "metadata": {
                "azdata_cell_guid": "f507fde3-d83d-4c2a-9fd8-0e4c747e1486",
                "language": "sql"
            },
            "outputs": [],
            "execution_count": null
        },
        {
            "cell_type": "code",
            "source": [
                "drop table if exists ann_movie;\r\n",
                "\r\n",
                "select top 15 movie_title, hero, villian\r\n",
                "into ann_movie\r\n",
                "from disney_char order by newid()"
            ],
            "metadata": {
                "azdata_cell_guid": "91740f91-75a6-46f2-88f1-3fcf02eb81dc",
                "language": "sql"
            },
            "outputs": [],
            "execution_count": null
        },
        {
            "cell_type": "code",
            "source": [
                "select * from ann_movie"
            ],
            "metadata": {
                "azdata_cell_guid": "1f79aef2-441a-46a8-9eaa-fe92173f9eac",
                "language": "sql"
            },
            "outputs": [],
            "execution_count": null
        },
        {
            "cell_type": "code",
            "source": [
                "drop table if exists ben_movie;\r\n",
                "\r\n",
                "select top 15 movie_title, hero, villian\r\n",
                "into ben_movie\r\n",
                "from disney_char order by newid()"
            ],
            "metadata": {
                "azdata_cell_guid": "58b24b87-cac2-4f27-bb46-a6c3a5f509dc",
                "language": "sql"
            },
            "outputs": [],
            "execution_count": null
        },
        {
            "cell_type": "code",
            "source": [
                "select * from ben_movie"
            ],
            "metadata": {
                "azdata_cell_guid": "53967adc-5a79-4bf9-9bdd-0c1cc15f16a9",
                "language": "sql"
            },
            "outputs": [],
            "execution_count": null
        },
        {
            "cell_type": "code",
            "source": [
                "select * from ann_movie union select * from ben_movie order by hero --เอาข้อมูลมาจากทั้ง 2ตารางมาต่อกันโดยที่ไม่เอาตัวที่ซื้อมา (union)"
            ],
            "metadata": {
                "azdata_cell_guid": "0ac01b43-16e8-4242-8d84-de7fdc964c9f",
                "language": "sql"
            },
            "outputs": [],
            "execution_count": null
        },
        {
            "cell_type": "code",
            "source": [
                "select * from ann_movie intersect select * from ben_movie order by hero --ข้อมูลทั้ง 2 ตาตรางตรงกัน (intersect)"
            ],
            "metadata": {
                "azdata_cell_guid": "8ad58b67-005c-445d-9c73-014b62ff3189",
                "language": "sql"
            },
            "outputs": [],
            "execution_count": null
        },
        {
            "cell_type": "code",
            "source": [
                "select * from ann_movie except select * from ben_movie order by hero ---ข้อมูลหนังที่ ann ชอบ แต่ ben ไม่ได้ชอบ (except)"
            ],
            "metadata": {
                "azdata_cell_guid": "029275f8-218f-43a4-a4d8-2468ef26219e",
                "language": "sql"
            },
            "outputs": [],
            "execution_count": null
        },
        {
            "cell_type": "code",
            "source": [
                "drop table if exists phum_movie;\r\n",
                "\r\n",
                "select top 20 movie_title, hero, villian\r\n",
                "into phum_movie\r\n",
                "from disney_char order by newid()"
            ],
            "metadata": {
                "azdata_cell_guid": "a5cb0755-38fa-4de9-8bfc-f163808b4242",
                "language": "sql"
            },
            "outputs": [],
            "execution_count": null
        },
        {
            "cell_type": "code",
            "source": [
                "select * from phum_movie"
            ],
            "metadata": {
                "language": "sql",
                "azdata_cell_guid": "362a3248-0033-46bd-8389-07cab7b60afc"
            },
            "outputs": [],
            "execution_count": null
        },
        {
            "cell_type": "code",
            "source": [
                "select * from ann_movie intersect select * from ben_movie intersect select * from phum_movie order by hero \r\n",
                "--ข้อมูลทั้ง 3 ตาตรางตรงกัน (intersect)"
            ],
            "metadata": {
                "azdata_cell_guid": "9ebc54b9-a555-4a3a-9b5a-e6d82abc8542",
                "language": "sql"
            },
            "outputs": [],
            "execution_count": null
        },
        {
            "cell_type": "code",
            "source": [
                "with cte as(\r\n",
                "    select * from ann_movie intersect select * from ben_movie intersect select * from phum_movie\r\n",
                ")\r\n",
                "select * from cte"
            ],
            "metadata": {
                "azdata_cell_guid": "7825909d-8f3d-47a5-b959-2508873571f0",
                "language": "sql"
            },
            "outputs": [],
            "execution_count": null
        },
        {
            "cell_type": "code",
            "source": [
                "drop table if exists fav_movie;\r\n",
                "with cte as(\r\n",
                "    select * from ann_movie intersect select * from ben_movie intersect select * from phum_movie\r\n",
                ")\r\n",
                "select * into fav_movie from cte"
            ],
            "metadata": {
                "azdata_cell_guid": "3b9e4cdb-78a3-4ce2-84ef-63e0c29e3291",
                "language": "sql"
            },
            "outputs": [],
            "execution_count": null
        },
        {
            "cell_type": "code",
            "source": [
                "select * from fav_movie"
            ],
            "metadata": {
                "azdata_cell_guid": "20cf6fb9-42e6-4f67-87d6-e1a58dd842ac",
                "language": "sql"
            },
            "outputs": [],
            "execution_count": null
        },
        {
            "cell_type": "markdown",
            "source": [
                "# **สอน SQL เบื้องต้น: การเขียนชุดคำสั่งสืบค้นย่อย (subquery)**"
            ],
            "metadata": {
                "language": "sql",
                "azdata_cell_guid": "c56dfc14-4de2-48dc-9dee-edcc09dbd63d"
            },
            "attachments": {}
        },
        {
            "cell_type": "code",
            "source": [
                "select sum(total_gross) from movie_gross where datepart(year,release_date) = 2016"
            ],
            "metadata": {
                "azdata_cell_guid": "513b835a-b92f-4f1f-994a-c126f948a54a",
                "language": "sql"
            },
            "outputs": [],
            "execution_count": null
        },
        {
            "cell_type": "code",
            "source": [
                "select movie_title,\r\n",
                "total_gross,\r\n",
                "total_gross/2873393105\r\n",
                "from movie_gross\r\n",
                "where datepart(year,release_date) = 2016\r\n",
                "\r\n",
                "\r\n",
                ""
            ],
            "metadata": {
                "azdata_cell_guid": "1fbd8d75-0db5-4c64-9df7-ac7338b4fe5f",
                "language": "sql"
            },
            "outputs": [],
            "execution_count": null
        },
        {
            "cell_type": "code",
            "source": [
                "select movie_title,\r\n",
                "(select format(sum(total_gross),'N0') from movie_gross where datepart(year,release_date) = 2016) [total all movie gross],\r\n",
                "format(total_gross,'N0') [total gross],\r\n",
                "total_gross/2873393105 [% manual],\r\n",
                "total_gross*1.0/(select sum(total_gross) from movie_gross where datepart(year,release_date) = 2016) [% subquery] --subquery ปกติใช้ได้ใน select,from,where\r\n",
                "from movie_gross\r\n",
                "where datepart(year,release_date) = 2016\r\n",
                "\r\n",
                "\r\n",
                ""
            ],
            "metadata": {
                "azdata_cell_guid": "6b7d0f8d-57ed-42ac-bf64-af9537952cac",
                "language": "sql"
            },
            "outputs": [],
            "execution_count": null
        },
        {
            "cell_type": "code",
            "source": [
                "--หาหนังที่ปี 2016 ที่ total gross > ค่าเฉลี่ย total gross ของหนังปี 2016\r\n",
                "select movie_title,total_gross,\r\n",
                "(select avg(total_gross) from movie_gross where datepart(year,release_date) = 2016) [avg total gross]\r\n",
                "from movie_gross where datepart(year,release_date) = 2016 and\r\n",
                "total_gross > (select avg(total_gross) from movie_gross where datepart(year,release_date) = 2016)"
            ],
            "metadata": {
                "language": "sql",
                "azdata_cell_guid": "b6c18f45-46e0-41d9-9e55-97c46d8547eb"
            },
            "outputs": [],
            "execution_count": null
        },
        {
            "cell_type": "markdown",
            "source": [
                "# **สอน SQL เบื้องต้น: การสร้าง view (ตารางเสมือน, virtual table) เพื่อเรียกใช้ข้อมูลในตารางให้ง่ายขึ้น**"
            ],
            "metadata": {
                "language": "sql",
                "azdata_cell_guid": "d57e088c-10ac-468a-a5ad-dd02821d5d65"
            },
            "attachments": {}
        },
        {
            "cell_type": "code",
            "source": [
                "select * from movie_gross where mpaa_rating = 'G'"
            ],
            "metadata": {
                "azdata_cell_guid": "84bbc50e-8dc6-4b7e-af4d-5ee3b45931e5",
                "language": "sql"
            },
            "outputs": [],
            "execution_count": null
        },
        {
            "cell_type": "code",
            "source": [
                "create view vw_g as select * from movie_gross where mpaa_rating = 'G'"
            ],
            "metadata": {
                "azdata_cell_guid": "9c30ad19-dadc-4cbd-9ca7-00207e1e600f",
                "language": "sql"
            },
            "outputs": [],
            "execution_count": null
        },
        {
            "cell_type": "code",
            "source": [
                "select * from vw_g"
            ],
            "metadata": {
                "azdata_cell_guid": "4a11ea58-9baa-476d-a74a-002dddb30210",
                "language": "sql"
            },
            "outputs": [],
            "execution_count": null
        },
        {
            "cell_type": "code",
            "source": [
                "select * from vw_g where datepart(year,release_date) > 2000"
            ],
            "metadata": {
                "azdata_cell_guid": "cb6443a0-5a91-44a9-9204-e05cb52b7423",
                "language": "sql"
            },
            "outputs": [],
            "execution_count": null
        },
        {
            "cell_type": "code",
            "source": [
                "drop view vw_debut"
            ],
            "metadata": {
                "language": "sql",
                "azdata_cell_guid": "35bb527c-c61b-4a1f-b2e1-19ddd961a60f"
            },
            "outputs": [],
            "execution_count": null
        },
        {
            "cell_type": "code",
            "source": [
                "create view vw_debut as\r\n",
                "select movie_title, release_date,\r\n",
                "datename(weekday, release_date) [weekday]\r\n",
                "from movie_gross\r\n",
                "--สร้าง view เอาไว้ใช้ quarry ข้อมูล\r\n",
                "\r\n",
                "\r\n",
                "\r\n",
                ""
            ],
            "metadata": {
                "azdata_cell_guid": "bb214812-af5b-42cc-9d0e-ea8e004dfabd",
                "language": "sql"
            },
            "outputs": [],
            "execution_count": null
        },
        {
            "cell_type": "code",
            "source": [
                "create or alter view vw_debut as --เป็นการสร้าง(หากมีอยู่แล้ว) หรือ แก้ไข view vw_debut\r\n",
                "select movie_title, release_date,\r\n",
                "datename(weekday, release_date) weekday,\r\n",
                "datepart(month, release_date) month from movie_gross\r\n",
                "\r\n",
                "\r\n",
                "\r\n",
                ""
            ],
            "metadata": {
                "language": "sql",
                "azdata_cell_guid": "c19e12c2-8126-4f9a-b492-380eabcec1a3"
            },
            "outputs": [],
            "execution_count": null
        },
        {
            "cell_type": "code",
            "source": [
                "select * from vw_debut"
            ],
            "metadata": {
                "azdata_cell_guid": "12c42b67-481d-4e0e-9405-6782261fe4ff",
                "language": "sql"
            },
            "outputs": [],
            "execution_count": null
        },
        {
            "cell_type": "code",
            "source": [
                "create or alter view test as\r\n",
                "select m.movie_title, m.genre, d.director\r\n",
                "from movie_gross m inner join director d --สร้าง view จาก หลายๆตาราง\r\n",
                "on m.movie_title = d.movie_title\r\n",
                "\r\n",
                ""
            ],
            "metadata": {
                "azdata_cell_guid": "77a3f5a9-20ec-4012-9039-fd928b0f7f2e",
                "language": "sql"
            },
            "outputs": [],
            "execution_count": null
        },
        {
            "cell_type": "code",
            "source": [
                "select * from test where genre = 'musical'"
            ],
            "metadata": {
                "azdata_cell_guid": "287c450e-7650-4ea2-b572-ce7657ec1789",
                "language": "sql"
            },
            "outputs": [],
            "execution_count": null
        },
        {
            "cell_type": "markdown",
            "source": [
                "# **สอน SQL เบื้องต้น: เขียนชุดคำสั่งสืบค้น (Query) ให้ง่ายขึ้นด้วยการใช้ Common Table Expression (CTE)**"
            ],
            "metadata": {
                "language": "sql",
                "azdata_cell_guid": "e7b077d3-220b-4c8a-930d-78910cce8b16"
            },
            "attachments": {}
        },
        {
            "cell_type": "code",
            "source": [
                "select datepart(year,release_date) [year],\r\n",
                "sum(inflation_adjusted_gross) [gross]\r\n",
                "from movie_gross\r\n",
                "where datepart(year,release_date) > 2010\r\n",
                "group by datepart(year,release_date)\r\n",
                "\r\n",
                "\r\n",
                ""
            ],
            "metadata": {
                "azdata_cell_guid": "65d834ed-ff5d-45de-9852-962d8b536210",
                "language": "sql"
            },
            "outputs": [],
            "execution_count": null
        },
        {
            "cell_type": "code",
            "source": [
                "with cte as (\r\n",
                "    select datepart(year,release_date) [year],\r\n",
                "    sum(inflation_adjusted_gross) [gross]\r\n",
                "    from movie_gross\r\n",
                "    where datepart(year,release_date) > 2010\r\n",
                "    group by datepart(year,release_date)\r\n",
                ")\r\n",
                "select year,gross,\r\n",
                "gross*1.0/(select sum(gross) from cte)[pct],\r\n",
                "format(gross*1.0/(select sum(gross) from cte),'P')[%]\r\n",
                "from cte\r\n",
                "\r\n",
                "\r\n",
                "\r\n",
                ""
            ],
            "metadata": {
                "azdata_cell_guid": "6127d179-fd89-4e0c-84d5-b1037d7e67a6",
                "language": "sql",
                "tags": []
            },
            "outputs": [],
            "execution_count": null
        },
        {
            "cell_type": "markdown",
            "source": [
                "# **สอน SQL เบื้องต้น: การแสดงแถวที่มีบางคอลัมน์ซ้ำกัน เช่น ชื่อภาพยนต์ที่ซ้ำกัน**"
            ],
            "metadata": {
                "language": "sql",
                "azdata_cell_guid": "db55fcd7-69b0-4804-9ba6-fadad528853f"
            },
            "attachments": {}
        },
        {
            "cell_type": "code",
            "source": [
                "select distinct movie_title from movie_gross"
            ],
            "metadata": {
                "azdata_cell_guid": "08218198-3d9d-4c02-9adb-a95c64c7665e",
                "language": "sql"
            },
            "outputs": [],
            "execution_count": null
        },
        {
            "cell_type": "code",
            "source": [
                "select movie_title,count(*) [cnt]\r\n",
                "from movie_gross group by movie_title having count(*) > 1 order by cnt desc\r\n",
                "\r\n",
                ""
            ],
            "metadata": {
                "azdata_cell_guid": "697e4c1a-d5d4-4f50-8b78-67a07f64c21d",
                "language": "sql",
                "tags": []
            },
            "outputs": [],
            "execution_count": null
        },
        {
            "cell_type": "code",
            "source": [
                "select * from movie_gross where movie_title in\r\n",
                "(select movie_title from movie_gross group by movie_title having count(*) > 1) order by movie_title,release_date\r\n",
                "\r\n",
                ""
            ],
            "metadata": {
                "azdata_cell_guid": "b1707852-0d62-41a8-996e-5c68f567b38a",
                "language": "sql"
            },
            "outputs": [],
            "execution_count": null
        },
        {
            "cell_type": "markdown",
            "source": [
                "# **สอน SQL เบื้องต้น: การสร้างคอลัมน์แสดงลำดับที่ rank(), dense\\_rank(), row\\_number()**"
            ],
            "metadata": {
                "language": "sql",
                "azdata_cell_guid": "10b75b93-e5b5-4e51-af7c-80ce1948008e"
            },
            "attachments": {}
        },
        {
            "cell_type": "code",
            "source": [
                "select * from movie_gross where datepart(year,release_date) > 2010"
            ],
            "metadata": {
                "language": "sql",
                "azdata_cell_guid": "67748f81-2b35-45d1-9aea-dd2d300ed9b3"
            },
            "outputs": [],
            "execution_count": null
        },
        {
            "cell_type": "markdown",
            "source": [
                "<span style=\"color: rgb(0, 128, 0); background-color: yellow;\"><u>จะเขียนให้เรียงลำดับ&nbsp;inflation_adjusted_gross&nbsp;จากมากไปน้อย&nbsp;ของหลังที่ออกหลังปี&nbsp;2010&nbsp;โดยมี&nbsp;column&nbsp;ระบุ&nbsp;เลขอันดับ</u></span>"
            ],
            "metadata": {
                "language": "sql",
                "azdata_cell_guid": "d8e13f59-6d3d-41c6-8fd8-883cfd86680b"
            },
            "attachments": {}
        },
        {
            "cell_type": "code",
            "source": [
                "select movie_title, inflation_adjusted_gross,\r\n",
                "rank() over (order by inflation_adjusted_gross desc) [gross_rank]\r\n",
                "from movie_gross where datepart(year,release_date) > 2010\r\n",
                "\r\n",
                ""
            ],
            "metadata": {
                "azdata_cell_guid": "29b96392-c0e3-47aa-b5ea-d584910f2fdd",
                "language": "sql",
                "tags": []
            },
            "outputs": [],
            "execution_count": null
        },
        {
            "cell_type": "markdown",
            "source": [
                "<u><mark>จะเขียนให้เรียงลำดับ inflation\\_adjusted\\_gross จากมากไปน้อย ของหลังที่ออกหลังปี 2010 โดยมี column ระบุ เลขอันดับ</mark></u>\n",
                "\n",
                "<u><mark>\\*\\*\\*โดยจะเนียงเป็นปีๆไป 2011 2012 2013 2014 2015 2016</mark></u>"
            ],
            "metadata": {
                "language": "sql",
                "azdata_cell_guid": "cf5dce60-5a94-4fc6-be7c-097cb295d62d"
            },
            "attachments": {}
        },
        {
            "cell_type": "code",
            "source": [
                "select movie_title, inflation_adjusted_gross, datepart(year,release_date),\r\n",
                "rank() over (partition by datepart(year,release_date) order by inflation_adjusted_gross desc) [gross_rank]\r\n",
                "from movie_gross where datepart(year,release_date) > 2010\r\n",
                "\r\n",
                ""
            ],
            "metadata": {
                "azdata_cell_guid": "72d79bc3-68da-4161-a8b0-de5709f100a9",
                "language": "sql",
                "tags": []
            },
            "outputs": [],
            "execution_count": null
        },
        {
            "cell_type": "markdown",
            "source": [
                "<u><mark>จะเขียนให้เรียงลำดับ inflation\\_adjusted\\_gross จากมากไปน้อย ของหลังที่ออกหลังปี 2010 โดยมี column ระบุ เลขอันดับ</mark></u>\n",
                "\n",
                "<u><mark>\\*\\*\\*โดยจะเนียงเป็นปีๆไป 2011 2012 2013 2014 2015 2016</mark></u>\n",
                "\n",
                "<u><mark>\\*\\*\\*และเอาแค่อันดับ 1-3 ของแต่ละปี\\*\\*\\*</mark></u>"
            ],
            "metadata": {
                "language": "sql",
                "azdata_cell_guid": "f5ea1fcb-ffba-4d88-b5b1-330f23163686"
            },
            "attachments": {}
        },
        {
            "cell_type": "code",
            "source": [
                "with cte as (\r\n",
                "    select movie_title, release_date, inflation_adjusted_gross,\r\n",
                "    rank() over (partition by datepart(year,release_date) order by inflation_adjusted_gross desc) [gross_rank]\r\n",
                "    from movie_gross\r\n",
                "    where datepart(year,release_date) > 2010)\r\n",
                "\r\n",
                "select * from cte WHERE gross_rank <= 3\r\n",
                "\r\n",
                "\r\n",
                ""
            ],
            "metadata": {
                "azdata_cell_guid": "12c7f57e-ad1d-4dea-b8ec-e9816a071330",
                "language": "sql"
            },
            "outputs": [],
            "execution_count": null
        },
        {
            "cell_type": "code",
            "source": [
                "with cte as(\r\n",
                "    select director, count(*) [no._movie] from director group by director\r\n",
                ")\r\n",
                "\r\n",
                "select *,\r\n",
                "rank() over (order by [no._movie] desc) [rank], --มีอันดับ 1 2คน คนที่ 3 จะเป็น rank 3\r\n",
                "dense_rank() over (order by [no._movie] desc) [dense_rank], --มีอันดับ 1 2คน คนที่ 3 จะเป็น rank 2\r\n",
                "row_number() over (order by [no._movie] desc) [row_number] --หมายเลขแถว แบบตรงไปตรงมา\r\n",
                "from cte\r\n",
                "\r\n",
                "\r\n",
                ""
            ],
            "metadata": {
                "azdata_cell_guid": "f6cfe087-4b89-4589-bc05-d2e3e4df175d",
                "language": "sql"
            },
            "outputs": [],
            "execution_count": null
        },
        {
            "cell_type": "markdown",
            "source": [
                "# **สอน SQL เบื้องต้น: การแบ่งแถวข้อมูลออกเป็นกลุ่ม ๆ เช่น quartile, decile**"
            ],
            "metadata": {
                "language": "sql",
                "azdata_cell_guid": "5a406664-2631-466d-9861-5587ad380ce5"
            },
            "attachments": {}
        },
        {
            "cell_type": "code",
            "source": [
                "select movie_title, release_date, inflation_adjusted_gross,\r\n",
                "ntile(4) over (order by inflation_adjusted_gross desc) [quartile]\r\n",
                "from movie_gross \r\n",
                "where datepart(year,release_date) > 2010\r\n",
                "\r\n",
                ""
            ],
            "metadata": {
                "azdata_cell_guid": "c247cce7-6cb9-4f3f-92b4-20b44ca61b45",
                "language": "sql"
            },
            "outputs": [],
            "execution_count": null
        },
        {
            "cell_type": "code",
            "source": [
                "with cte as (\r\n",
                "    select movie_title, release_date, inflation_adjusted_gross,\r\n",
                "    ntile(4) over (order by inflation_adjusted_gross desc) [quartile]\r\n",
                "    from movie_gross \r\n",
                "    where datepart(year,release_date) > 2010\r\n",
                ")\r\n",
                "\r\n",
                "select * from cte where quartile = 1"
            ],
            "metadata": {
                "azdata_cell_guid": "2d9a7baf-d5f8-48b8-a9fe-f9925f0617a3",
                "language": "sql"
            },
            "outputs": [],
            "execution_count": null
        },
        {
            "cell_type": "code",
            "source": [
                "with cte as(\r\n",
                "    select movie_title,genre,inflation_adjusted_gross,\r\n",
                "    ntile(4) over (partition by genre order by inflation_adjusted_gross desc) [quartile]\r\n",
                "    from movie_gross \r\n",
                "    where datepart(year,release_date) > 2010\r\n",
                ")\r\n",
                "select * from cte\r\n",
                "\r\n",
                "\r\n",
                ""
            ],
            "metadata": {
                "azdata_cell_guid": "ec391515-0f16-4a57-8166-8a048c8b650a",
                "language": "sql",
                "tags": []
            },
            "outputs": [],
            "execution_count": null
        },
        {
            "cell_type": "markdown",
            "source": [
                "# **สอน SQL เบื้องต้น: การเลือกแถวอย่างสุ่ม (random rows)**"
            ],
            "metadata": {
                "language": "sql",
                "azdata_cell_guid": "56ffc47e-7b25-4db6-a2a2-7b3fbd653819"
            },
            "attachments": {}
        },
        {
            "cell_type": "code",
            "source": [
                "select top 1 *, newid() from movie_gross order by newid() --test"
            ],
            "metadata": {
                "azdata_cell_guid": "1fd34ca7-118f-498e-b355-cc551b341e81",
                "language": "sql"
            },
            "outputs": [],
            "execution_count": null
        },
        {
            "cell_type": "code",
            "source": [
                "select top 70 percent * from movie_gross order by newid() --สุ่ม 70 % ได้ 406 แถว"
            ],
            "metadata": {
                "azdata_cell_guid": "96f15b8e-64cf-4e79-b75f-bbd5542877d3",
                "language": "sql"
            },
            "outputs": [],
            "execution_count": null
        },
        {
            "cell_type": "code",
            "source": [
                "select top 70 percent * into train from movie_gross order by newid() --สุ่ม 70 % ได้ 406 แถว เอาไปสร้างตาราง train"
            ],
            "metadata": {
                "azdata_cell_guid": "634299ae-1eb6-450d-a992-e4b0e40cbb15",
                "language": "sql"
            },
            "outputs": [],
            "execution_count": null
        },
        {
            "cell_type": "code",
            "source": [
                "select * from movie_gross except select * from train --test"
            ],
            "metadata": {
                "azdata_cell_guid": "31b15366-f7ec-49c1-a7fc-828280635e03",
                "language": "sql"
            },
            "outputs": [],
            "execution_count": null
        },
        {
            "cell_type": "code",
            "source": [
                "with cte as (\r\n",
                "    select * from movie_gross except select * from train\r\n",
                ")\r\n",
                "\r\n",
                "select * into testing from cte\r\n",
                "--เอาที่เหลือมาสร้างเป็นอีกตารางชื่อ testing\r\n",
                "\r\n",
                "\r\n",
                "\r\n",
                ""
            ],
            "metadata": {
                "azdata_cell_guid": "03b51252-8b27-49c1-b1ce-7937ae72e13c",
                "language": "sql"
            },
            "outputs": [],
            "execution_count": null
        },
        {
            "cell_type": "markdown",
            "source": [
                "# **สอน SQL เบื้องต้น: การ PIVOT ข้อมูล (แปลงข้อมูลแบบ long format เป็น wide format)**"
            ],
            "metadata": {
                "language": "sql",
                "azdata_cell_guid": "6ee7f1d1-3a88-4191-95fd-bc3083ead0e1"
            },
            "attachments": {}
        },
        {
            "cell_type": "code",
            "source": [
                "select * from movie_gross"
            ],
            "metadata": {
                "language": "sql",
                "azdata_cell_guid": "333dd62b-57f4-47d7-80c9-cac42b905d5a"
            },
            "outputs": [],
            "execution_count": null
        },
        {
            "cell_type": "code",
            "source": [
                "select datepart(year,release_date), genre, sum(total_gross) [gross ]from movie_gross\r\n",
                "group by datepart(year,release_date),genre"
            ],
            "metadata": {
                "language": "sql",
                "azdata_cell_guid": "9cf01515-5bf3-4cbc-a631-9fdfd5223f6a"
            },
            "outputs": [],
            "execution_count": null
        },
        {
            "cell_type": "code",
            "source": [
                "select genre, [2012], [2013], [2014] from (\r\n",
                "    select datepart(year,release_date) [year_], genre, sum(total_gross) [gross] from movie_gross\r\n",
                "    group by datepart(year,release_date),genre\r\n",
                ")[d]\r\n",
                "\r\n",
                "pivot (\r\n",
                "    sum(gross) for year_ in ([2012], [2013], [2014])\r\n",
                ") pvt\r\n",
                "\r\n",
                "\r\n",
                "\r\n",
                ""
            ],
            "metadata": {
                "azdata_cell_guid": "2aef0c17-23d7-4c96-b491-940784e1ed6d",
                "language": "sql"
            },
            "outputs": [],
            "execution_count": null
        },
        {
            "cell_type": "code",
            "source": [
                "select genre, [2012], [2013], [2014] from (\r\n",
                "    select datepart(year,release_date) [year_], genre, sum(total_gross) [gross] from movie_gross\r\n",
                "    where genre in ('action','adventure','musical')\r\n",
                "    group by datepart(year,release_date),genre\r\n",
                ")[d]\r\n",
                "\r\n",
                "pivot (\r\n",
                "    sum(gross) for year_ in ([2012], [2013], [2014])\r\n",
                ") pvt\r\n",
                ""
            ],
            "metadata": {
                "azdata_cell_guid": "2ba19c70-adfd-47d9-82a6-0ae12e939442",
                "language": "sql"
            },
            "outputs": [],
            "execution_count": null
        },
        {
            "cell_type": "code",
            "source": [
                "select year_, [action], [adventure], [musical], [drama],\r\n",
                "isnull([action],0)+isnull([adventure],0)+isnull([musical],0)+isnull([drama],0) [total]\r\n",
                "from (\r\n",
                "    select datepart(year,release_date) [year_], genre, sum(total_gross) [gross] from movie_gross\r\n",
                "    where datepart(year,release_date) > 2010\r\n",
                "    group by datepart(year,release_date),genre\r\n",
                ")[d]\r\n",
                "\r\n",
                "pivot (\r\n",
                "    sum(gross) for genre in ([action], [adventure], [musical], [drama])\r\n",
                ") pvt\r\n",
                "order by total desc\r\n",
                "\r\n",
                "\r\n",
                ""
            ],
            "metadata": {
                "azdata_cell_guid": "0fa3da67-6775-44f6-b6d0-84836a3acb21",
                "language": "sql"
            },
            "outputs": [],
            "execution_count": null
        },
        {
            "cell_type": "markdown",
            "source": [
                "# **สอน SQL เบื้องต้น: การ UNPIVOT (จาก wide format เป็น long format)**"
            ],
            "metadata": {
                "language": "sql",
                "azdata_cell_guid": "d55560ca-080e-49a6-8b33-7b610ffc7611"
            },
            "attachments": {}
        },
        {
            "cell_type": "code",
            "source": [
                "select * from revenue where year > 2010"
            ],
            "metadata": {
                "azdata_cell_guid": "8753a34e-e0e9-4047-a133-0f00226ad10f",
                "language": "sql"
            },
            "outputs": [],
            "execution_count": null
        },
        {
            "cell_type": "code",
            "source": [
                "select year, cat, rev_m_usd\r\n",
                "from revenue\r\n",
                "unpivot(\r\n",
                "    rev_m_usd for cat in (\r\n",
                "        studio_entertainment, disney_consumer_products, disney_interactive,\r\n",
                "        walt_disney_parks_and_resorts, disney_media_networks\r\n",
                "    )\r\n",
                ") u\r\n",
                "where year > 2010"
            ],
            "metadata": {
                "azdata_cell_guid": "fece846c-9c33-45d6-9ade-9d99a8b1d5c5",
                "language": "sql"
            },
            "outputs": [],
            "execution_count": null
        },
        {
            "cell_type": "code",
            "source": [
                "drop view vw_revenue"
            ],
            "metadata": {
                "language": "sql",
                "azdata_cell_guid": "abaca84e-66f3-4320-a910-97b75729abde"
            },
            "outputs": [],
            "execution_count": null
        },
        {
            "cell_type": "code",
            "source": [
                "create view vw_revenue as (\r\n",
                "    select year, cat, rev_m_usd\r\n",
                "    from revenue\r\n",
                "    unpivot(\r\n",
                "        rev_m_usd for cat in (\r\n",
                "            studio_entertainment, disney_consumer_products, disney_interactive,\r\n",
                "            walt_disney_parks_and_resorts, disney_media_networks\r\n",
                "        )\r\n",
                "    ) u\r\n",
                "    where year > 2010\r\n",
                ")"
            ],
            "metadata": {
                "azdata_cell_guid": "8a13ba24-f12d-4fa1-8d3d-dbffcf26b350",
                "language": "sql"
            },
            "outputs": [],
            "execution_count": null
        },
        {
            "cell_type": "code",
            "source": [
                "select year, sum(rev_m_usd) m_usd from vw_revenue group by year"
            ],
            "metadata": {
                "azdata_cell_guid": "b91e9893-d090-40fc-b11d-eee96296997a",
                "language": "sql"
            },
            "outputs": [],
            "execution_count": null
        },
        {
            "cell_type": "code",
            "source": [
                "select cat, sum(rev_m_usd) m_usd from vw_revenue group by cat"
            ],
            "metadata": {
                "azdata_cell_guid": "5cc13f51-9a2e-43ef-888f-23942e8b0629",
                "language": "sql"
            },
            "outputs": [],
            "execution_count": null
        },
        {
            "cell_type": "markdown",
            "source": [
                "# **สอน SQL เบื้องต้น: การเพิ่มข้อมูลเข้าไปในตารางด้วยคำสั่ง INSERT**"
            ],
            "metadata": {
                "language": "sql",
                "azdata_cell_guid": "2843f349-96ff-4237-83bb-efc86fe79d87"
            },
            "attachments": {}
        },
        {
            "cell_type": "code",
            "source": [
                "select top 5 * from movie_gross"
            ],
            "metadata": {
                "azdata_cell_guid": "c5db6cc4-bbee-4a81-bd89-5ca1e72ef00e",
                "language": "sql"
            },
            "outputs": [],
            "execution_count": null
        },
        {
            "cell_type": "code",
            "source": [
                "select top 5 * \r\n",
                "into movie -- สร้างตารางใหม่\r\n",
                "from movie_gross"
            ],
            "metadata": {
                "azdata_cell_guid": "be46cc40-3777-4459-bbaf-8a7d5450959a",
                "language": "sql"
            },
            "outputs": [],
            "execution_count": null
        },
        {
            "cell_type": "code",
            "source": [
                "select * from movie"
            ],
            "metadata": {
                "azdata_cell_guid": "d500f4cf-9333-4ebe-8af7-35afb1c8c4b3",
                "language": "sql"
            },
            "outputs": [],
            "execution_count": null
        },
        {
            "cell_type": "code",
            "source": [
                "drop table if exists movie;"
            ],
            "metadata": {
                "language": "sql",
                "azdata_cell_guid": "4cdb6ca8-00a7-4918-990d-08aad6c995a5"
            },
            "outputs": [],
            "execution_count": null
        },
        {
            "cell_type": "code",
            "source": [
                "insert into movie values ('demo', '2015-08-25', 'drama', 'G', NULL, NULL) --แบบที่ 1"
            ],
            "metadata": {
                "azdata_cell_guid": "00de9da1-bbda-427f-99b4-ef1184ca9be0",
                "language": "sql"
            },
            "outputs": [],
            "execution_count": null
        },
        {
            "cell_type": "code",
            "source": [
                "insert into movie (movie_title, genre) --แบบที่ 2 เจาะจง column\r\n",
                "values ('frozen 2', 'adventure'),('frozen 3', 'adventure'), ('frozen 4', 'adventure')"
            ],
            "metadata": {
                "azdata_cell_guid": "aaa123b8-ecf5-4935-8990-5c5c4a6602cd",
                "language": "sql",
                "tags": []
            },
            "outputs": [],
            "execution_count": null
        },
        {
            "cell_type": "code",
            "source": [
                "insert into m2000 select * from m2001 --ถ้าโครงสร้างตารางเหมือนกันสามารถทำแบบนี้ได้เลย"
            ],
            "metadata": {
                "azdata_cell_guid": "d8799343-550e-413f-bd33-2b82bcab195e",
                "language": "sql"
            },
            "outputs": [],
            "execution_count": null
        },
        {
            "cell_type": "markdown",
            "source": [
                "# **สอน SQL เบื้องต้น: การนำผลการสืบค้นไปสร้างตารางใหม่ (select into) เพิ่มเข้าในตารางเดิม (insert into)**"
            ],
            "metadata": {
                "language": "sql",
                "azdata_cell_guid": "ac7062dd-ed01-4a48-8a65-1ef19fc29d38"
            },
            "attachments": {}
        },
        {
            "cell_type": "code",
            "source": [
                "select * from movie_gross"
            ],
            "metadata": {
                "azdata_cell_guid": "4c8a2540-f375-4e01-8f6e-0e083661ac33",
                "language": "sql"
            },
            "outputs": [],
            "execution_count": null
        },
        {
            "cell_type": "code",
            "source": [
                "select movie_title, release_date, genre\r\n",
                "into adventure_mov\r\n",
                "from movie_gross where genre = 'adventure'"
            ],
            "metadata": {
                "azdata_cell_guid": "f681e85e-d7b9-4ef4-97d7-3bdb914ecb7c",
                "language": "sql"
            },
            "outputs": [],
            "execution_count": null
        },
        {
            "cell_type": "code",
            "source": [
                "drop table if exists adventure_mov;\r\n",
                "\r\n",
                "select movie_title, release_date, genre\r\n",
                "into adventure_mov\r\n",
                "from movie_gross where genre = 'adventure' and datepart(year,release_date) > 2010;\r\n",
                "\r\n",
                "select * from adventure_mov"
            ],
            "metadata": {
                "azdata_cell_guid": "41dd6363-4f1f-4830-921b-b1111b7bb3dd",
                "language": "sql"
            },
            "outputs": [],
            "execution_count": null
        },
        {
            "cell_type": "markdown",
            "source": [
                "<mark><span style=\"color: rgb(0, 0, 255);\">insert</span> <span style=\"color: rgb(0, 0, 255);\">into</span> .... select คือการเพิ่มข้อมูลลงตารางที่มีอยูแล้ว</mark>\n",
                "\n",
                "<mark><span style=\"color: rgb(0, 0, 255);\">select...into</span> คือการสร้างตารางหใม่</mark>"
            ],
            "metadata": {
                "language": "sql",
                "azdata_cell_guid": "d67bcad8-6bed-4dec-925c-a34f477e64e2"
            },
            "attachments": {}
        },
        {
            "cell_type": "markdown",
            "source": [
                "# **สอน SQL เบื้องต้น: การแก้ไขข้อมูลในตารางด้วยคำสั่ง UPDATE**"
            ],
            "metadata": {
                "language": "sql",
                "azdata_cell_guid": "973e7ec2-dd72-4f3b-885e-674d57266722"
            },
            "attachments": {}
        },
        {
            "cell_type": "code",
            "source": [
                "drop table if exists testing_data;\r\n",
                "select * into testing_data from movie_gross --ดึงข้อมูลมา test จะได้ไม่กระทบกับข้อมูลหลัก\r\n",
                "\r\n",
                ""
            ],
            "metadata": {
                "language": "sql",
                "azdata_cell_guid": "13423b7c-b10a-4e41-a09e-36c04b91eab1"
            },
            "outputs": [],
            "execution_count": null
        },
        {
            "cell_type": "code",
            "source": [
                "update testing_data\r\n",
                "set movie_title = upper(movie_title), genre = upper(genre)\r\n",
                "\r\n",
                ""
            ],
            "metadata": {
                "azdata_cell_guid": "fc154e8e-abf4-45e0-b6ba-eebc9ef4f681",
                "language": "sql",
                "tags": []
            },
            "outputs": [],
            "execution_count": null
        },
        {
            "cell_type": "code",
            "source": [
                "select * from testing_data"
            ],
            "metadata": {
                "azdata_cell_guid": "5f0e6d39-7503-41c9-9e6f-98994456e066",
                "language": "sql"
            },
            "outputs": [],
            "execution_count": null
        },
        {
            "cell_type": "code",
            "source": [
                "alter table testing_data add gross_th money null --เพิ่ม column gross_th"
            ],
            "metadata": {
                "azdata_cell_guid": "fd92f6d5-a99e-4e9f-93d6-c2a50a777550",
                "language": "sql"
            },
            "outputs": [],
            "execution_count": null
        },
        {
            "cell_type": "code",
            "source": [
                "select * from testing_data"
            ],
            "metadata": {
                "azdata_cell_guid": "ffe0ca8d-c691-4029-8798-2f3010bb020b",
                "language": "sql"
            },
            "outputs": [],
            "execution_count": null
        },
        {
            "cell_type": "code",
            "source": [
                "update testing_data\r\n",
                "set gross_th = inflation_adjusted_gross * 36.6\n",
                "\n",
                ""
            ],
            "metadata": {
                "azdata_cell_guid": "6e281a7a-7780-427a-8165-03485e8048af",
                "language": "sql"
            },
            "outputs": [],
            "execution_count": null
        },
        {
            "cell_type": "code",
            "source": [
                "select * from testing_data"
            ],
            "metadata": {
                "azdata_cell_guid": "4ee8764e-7560-4704-b6c7-60842e199d00",
                "language": "sql"
            },
            "outputs": [],
            "execution_count": null
        },
        {
            "cell_type": "code",
            "source": [
                "alter table testing_data add mpaa_fullname varchar(255) null"
            ],
            "metadata": {
                "azdata_cell_guid": "bc2a29d4-526d-4bf0-8b9f-6e8d065d9806",
                "language": "sql"
            },
            "outputs": [],
            "execution_count": null
        },
        {
            "cell_type": "code",
            "source": [
                "select * from testing_data"
            ],
            "metadata": {
                "azdata_cell_guid": "53a16a0f-b820-48d5-84c8-97ce16d228ac",
                "language": "sql"
            },
            "outputs": [],
            "execution_count": null
        },
        {
            "cell_type": "code",
            "source": [
                "update testing_data \r\n",
                "    set mpaa_fullname = \r\n",
                "    case mpaa_rating \r\n",
                "        when 'G' then 'general audiences'\r\n",
                "        when 'PG' then 'parantal guidance'\r\n",
                "        when 'PG-13' then 'parantal guidance - 13'\r\n",
                "        when 'R' then 'restricted'\r\n",
                "        else mpaa_rating\r\n",
                "    end\r\n",
                "\r\n",
                "\r\n",
                "\r\n",
                "\r\n",
                "\r\n",
                ""
            ],
            "metadata": {
                "azdata_cell_guid": "6ccf475c-9d4e-4058-ab85-c62057677046",
                "language": "sql"
            },
            "outputs": [],
            "execution_count": null
        },
        {
            "cell_type": "code",
            "source": [
                "select movie_title, mpaa_rating, mpaa_fullname from testing_data"
            ],
            "metadata": {
                "azdata_cell_guid": "c54ae625-0c72-4bd0-8dfc-2ebace0a659f",
                "language": "sql"
            },
            "outputs": [],
            "execution_count": null
        },
        {
            "cell_type": "markdown",
            "source": [
                "# **สอน SQL เบื้องต้น: การลบแถวข้อมูลด้วยคำสั่ง DELETE**"
            ],
            "metadata": {
                "language": "sql",
                "azdata_cell_guid": "65715431-eaa1-4b5b-aeb1-ea4625e5c2eb"
            },
            "attachments": {}
        },
        {
            "cell_type": "code",
            "source": [
                "drop table if exists phum_table;\r\n",
                "\r\n",
                "select * into phum_table from movie_gross\r\n",
                "\r\n",
                "\r\n",
                ""
            ],
            "metadata": {
                "azdata_cell_guid": "c2f23049-6e5c-4952-af4b-2ee138af3c9f",
                "language": "sql",
                "tags": []
            },
            "outputs": [],
            "execution_count": null
        },
        {
            "cell_type": "code",
            "source": [
                "select top 10 * from phum_table "
            ],
            "metadata": {
                "azdata_cell_guid": "8ca042e2-1fb4-42c3-9888-eca64afc3f00",
                "language": "sql"
            },
            "outputs": [],
            "execution_count": null
        },
        {
            "cell_type": "code",
            "source": [
                "select * from phum_table where movie_title = 'Pinocchio'"
            ],
            "metadata": {
                "azdata_cell_guid": "7031890e-42a7-493d-9431-878518738478",
                "language": "sql"
            },
            "outputs": [],
            "execution_count": null
        },
        {
            "cell_type": "code",
            "source": [
                "delete from phum_table where movie_title = 'Pinocchio' --delete from phum_table(ลบทั้งตาราง)"
            ],
            "metadata": {
                "azdata_cell_guid": "2588ec23-16a7-4fc4-a587-acf38500ecf6",
                "language": "sql"
            },
            "outputs": [],
            "execution_count": null
        },
        {
            "cell_type": "code",
            "source": [
                "select top 10 * from phum_table --Pinocchio หายไปแล้ว"
            ],
            "metadata": {
                "azdata_cell_guid": "0e1687a3-2d2a-4a1b-9ab0-944ee333ea95",
                "language": "sql"
            },
            "outputs": [],
            "execution_count": null
        },
        {
            "cell_type": "code",
            "source": [
                "drop table if exists director_table;\r\n",
                "\r\n",
                "select * into director_table from director\r\n",
                "\r\n",
                "\r\n",
                "\r\n",
                "\r\n",
                ""
            ],
            "metadata": {
                "azdata_cell_guid": "2b28e0f6-a5b2-4273-b10c-271f8a0b1428",
                "language": "sql"
            },
            "outputs": [],
            "execution_count": null
        },
        {
            "cell_type": "code",
            "source": [
                "drop table if exists test_table;\r\n",
                "\r\n",
                "select p.movie_title, p.genre, d.director into test_table\r\n",
                "from phum_table [p] \r\n",
                "left join director_table [d] on p.movie_title = d.movie_title\r\n",
                "\r\n",
                "delete from test_table where director is null;\r\n",
                "select movie_title, genre, upper(director) from test_table;\r\n",
                "\r\n",
                "\r\n",
                "\r\n",
                "\r\n",
                "\r\n",
                ""
            ],
            "metadata": {
                "azdata_cell_guid": "e2a2becc-0d7e-44d4-80f0-3d0d2d6d06f7",
                "language": "sql"
            },
            "outputs": [],
            "execution_count": null
        },
        {
            "cell_type": "markdown",
            "source": [
                "# **สอน Azure Data Studio: การ import flat file เช่น CSV (comma-separated values)**"
            ],
            "metadata": {
                "language": "sql",
                "azdata_cell_guid": "fd60248f-713f-4841-a9ad-266d7d2b67be"
            },
            "attachments": {}
        },
        {
            "cell_type": "code",
            "source": [
                "https://www.youtube.com/watch?v=MXSTFZKqk3s&list=PLoTScYm9O0GEi5TcWdFY-X2XqXcEdvQiO&index=58"
            ],
            "metadata": {
                "azdata_cell_guid": "fe855e65-b56e-4c4d-a899-42a81e53fcc2",
                "language": "sql"
            },
            "outputs": [],
            "execution_count": null
        },
        {
            "cell_type": "markdown",
            "source": [
                "# **สอน Azure Data Studio: การนำผลลัพธ์จาก SQL มาสร้างกราฟ**"
            ],
            "metadata": {
                "language": "sql",
                "azdata_cell_guid": "e67f7492-5243-4b2e-af80-aaf892b352bf"
            },
            "attachments": {}
        },
        {
            "cell_type": "code",
            "source": [
                "https://www.youtube.com/watch?v=-ygtpwnx-UA&list=PLoTScYm9O0GEi5TcWdFY-X2XqXcEdvQiO&index=59"
            ],
            "metadata": {
                "azdata_cell_guid": "fcd42645-bab1-46a0-b2ca-96d68f8c2c59",
                "language": "sql"
            },
            "outputs": [],
            "execution_count": null
        },
        {
            "cell_type": "markdown",
            "source": [
                "# **การใช้ Azure Data Studio ร่วมกับ github**"
            ],
            "metadata": {
                "language": "sql",
                "azdata_cell_guid": "61d21803-7343-468b-ac5f-88b54a1e5879"
            },
            "attachments": {}
        },
        {
            "cell_type": "code",
            "source": [
                "https://www.youtube.com/watch?v=3FXNxF9uiiw&list=PLoTScYm9O0GEi5TcWdFY-X2XqXcEdvQiO&index=61"
            ],
            "metadata": {
                "azdata_cell_guid": "26f8e908-7d91-4161-8d47-12c8f0b3097c",
                "language": "sql"
            },
            "outputs": [],
            "execution_count": null
        }
    ]
}